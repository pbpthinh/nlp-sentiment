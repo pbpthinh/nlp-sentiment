{
  "nbformat": 4,
  "nbformat_minor": 0,
  "metadata": {
    "kernelspec": {
      "display_name": "Python 3",
      "language": "python",
      "name": "python3"
    },
    "language_info": {
      "codemirror_mode": {
        "name": "ipython",
        "version": 3
      },
      "file_extension": ".py",
      "mimetype": "text/x-python",
      "name": "python",
      "nbconvert_exporter": "python",
      "pygments_lexer": "ipython3",
      "version": "3.7.3"
    },
    "colab": {
      "name": "Sentiment_analysis.ipynb",
      "provenance": [],
      "collapsed_sections": [],
      "include_colab_link": true
    }
  },
  "cells": [
    {
      "cell_type": "markdown",
      "metadata": {
        "id": "view-in-github",
        "colab_type": "text"
      },
      "source": [
        "<a href=\"https://colab.research.google.com/github/pbpthinh/nlp-sentiment/blob/main/Sentiment_analysis.ipynb\" target=\"_parent\"><img src=\"https://colab.research.google.com/assets/colab-badge.svg\" alt=\"Open In Colab\"/></a>"
      ]
    },
    {
      "cell_type": "code",
      "metadata": {
        "colab": {
          "base_uri": "https://localhost:8080/"
        },
        "id": "_NKF-6p-yZiX",
        "outputId": "44ac9907-8953-44fb-b492-bbdd241873c1"
      },
      "source": [
        "!pip install pyvi"
      ],
      "execution_count": null,
      "outputs": [
        {
          "output_type": "stream",
          "name": "stdout",
          "text": [
            "Requirement already satisfied: pyvi in /usr/local/lib/python3.7/dist-packages (0.1.1)\n",
            "Requirement already satisfied: sklearn-crfsuite in /usr/local/lib/python3.7/dist-packages (from pyvi) (0.3.6)\n",
            "Requirement already satisfied: scikit-learn in /usr/local/lib/python3.7/dist-packages (from pyvi) (1.0.1)\n",
            "Requirement already satisfied: threadpoolctl>=2.0.0 in /usr/local/lib/python3.7/dist-packages (from scikit-learn->pyvi) (3.0.0)\n",
            "Requirement already satisfied: joblib>=0.11 in /usr/local/lib/python3.7/dist-packages (from scikit-learn->pyvi) (1.1.0)\n",
            "Requirement already satisfied: scipy>=1.1.0 in /usr/local/lib/python3.7/dist-packages (from scikit-learn->pyvi) (1.4.1)\n",
            "Requirement already satisfied: numpy>=1.14.6 in /usr/local/lib/python3.7/dist-packages (from scikit-learn->pyvi) (1.19.5)\n",
            "Requirement already satisfied: tqdm>=2.0 in /usr/local/lib/python3.7/dist-packages (from sklearn-crfsuite->pyvi) (4.62.3)\n",
            "Requirement already satisfied: python-crfsuite>=0.8.3 in /usr/local/lib/python3.7/dist-packages (from sklearn-crfsuite->pyvi) (0.9.7)\n",
            "Requirement already satisfied: tabulate in /usr/local/lib/python3.7/dist-packages (from sklearn-crfsuite->pyvi) (0.8.9)\n",
            "Requirement already satisfied: six in /usr/local/lib/python3.7/dist-packages (from sklearn-crfsuite->pyvi) (1.15.0)\n"
          ]
        }
      ]
    },
    {
      "cell_type": "code",
      "metadata": {
        "id": "Ih7h4nTaygeR"
      },
      "source": [
        "import os, string, re\n",
        "import glob\n",
        "import pandas as pd\n",
        "from pyvi import ViTokenizer, ViPosTagger\n",
        "from sklearn.model_selection import train_test_split\n",
        "from sklearn.metrics import *\n",
        "import numpy as np\n",
        "import matplotlib.pyplot as plt\n",
        "import math\n",
        "import seaborn as sns\n",
        "import warnings\n",
        "warnings.filterwarnings(\"ignore\")"
      ],
      "execution_count": null,
      "outputs": []
    },
    {
      "cell_type": "code",
      "metadata": {
        "id": "6oF2JNZKyZib",
        "colab": {
          "base_uri": "https://localhost:8080/"
        },
        "outputId": "c74c2bd3-a0ee-4a9a-a964-e4fab0960ffd"
      },
      "source": [
        "from google.colab import drive\n",
        "drive.mount('/content/gdrive')\n",
        "\n",
        "data_path ='/content/gdrive/My Drive/SA/Dataset/tiki_data.csv'"
      ],
      "execution_count": null,
      "outputs": [
        {
          "output_type": "stream",
          "name": "stdout",
          "text": [
            "Drive already mounted at /content/gdrive; to attempt to forcibly remount, call drive.mount(\"/content/gdrive\", force_remount=True).\n"
          ]
        }
      ]
    },
    {
      "cell_type": "code",
      "metadata": {
        "id": "goYSA-SHyZib"
      },
      "source": [
        "\n",
        "def tokenizer(text):\n",
        "    token = ViTokenizer.tokenize(text)\n",
        "    return token\n",
        "\n",
        "def clean_doc(doc):\n",
        "    for punc in string.punctuation:\n",
        "        doc = doc.replace(punc,' '+ punc + ' ')\n",
        "    doc = tokenizer(doc)\n",
        "    doc = doc.lower()\n",
        "    doc = re.sub(r\"\\?\", \" \\? \", doc)\n",
        "    doc = re.sub(r\"[0-9]+\", \" num \", doc)\n",
        "    for punc in string.punctuation:\n",
        "        if punc !=\"_\":\n",
        "            doc = doc.replace(punc,' ')\n",
        "    doc = re.sub('\\\\s+',' ',doc)\n",
        "    return doc"
      ],
      "execution_count": null,
      "outputs": []
    },
    {
      "cell_type": "code",
      "metadata": {
        "colab": {
          "base_uri": "https://localhost:8080/",
          "height": 206
        },
        "id": "N_fnjBBmyZic",
        "outputId": "6e7dc02a-02c9-4402-94cd-7332ac5c37db"
      },
      "source": [
        "df = pd.read_csv(data_path)\n",
        "df.head()"
      ],
      "execution_count": null,
      "outputs": [
        {
          "output_type": "execute_result",
          "data": {
            "text/html": [
              "<div>\n",
              "<style scoped>\n",
              "    .dataframe tbody tr th:only-of-type {\n",
              "        vertical-align: middle;\n",
              "    }\n",
              "\n",
              "    .dataframe tbody tr th {\n",
              "        vertical-align: top;\n",
              "    }\n",
              "\n",
              "    .dataframe thead th {\n",
              "        text-align: right;\n",
              "    }\n",
              "</style>\n",
              "<table border=\"1\" class=\"dataframe\">\n",
              "  <thead>\n",
              "    <tr style=\"text-align: right;\">\n",
              "      <th></th>\n",
              "      <th>Unnamed: 0</th>\n",
              "      <th>ttn_gia</th>\n",
              "      <th>ttn_bl_diem</th>\n",
              "      <th>ttn_bl_noi_dung</th>\n",
              "      <th>ttn_thuong_hieu</th>\n",
              "    </tr>\n",
              "  </thead>\n",
              "  <tbody>\n",
              "    <tr>\n",
              "      <th>0</th>\n",
              "      <td>0</td>\n",
              "      <td>45.000</td>\n",
              "      <td>5</td>\n",
              "      <td>chất lượng sản phẩm tuyệt vời</td>\n",
              "      <td>No Brand</td>\n",
              "    </tr>\n",
              "    <tr>\n",
              "      <th>1</th>\n",
              "      <td>1</td>\n",
              "      <td>255.000</td>\n",
              "      <td>4</td>\n",
              "      <td>chất lượng sản phẩm tuyệt vời, chất lượng sản ...</td>\n",
              "      <td>No Brand</td>\n",
              "    </tr>\n",
              "    <tr>\n",
              "      <th>2</th>\n",
              "      <td>2</td>\n",
              "      <td>105.000</td>\n",
              "      <td>5</td>\n",
              "      <td>chất lượng sản phẩm tuyệt vời đóng gói sản phẩ...</td>\n",
              "      <td>No Brand</td>\n",
              "    </tr>\n",
              "    <tr>\n",
              "      <th>3</th>\n",
              "      <td>3</td>\n",
              "      <td>180.000</td>\n",
              "      <td>5</td>\n",
              "      <td>giày đẹp lắm :red_heart: , thời gian giao hàng...</td>\n",
              "      <td>No Brand</td>\n",
              "    </tr>\n",
              "    <tr>\n",
              "      <th>4</th>\n",
              "      <td>4</td>\n",
              "      <td>34.000</td>\n",
              "      <td>4</td>\n",
              "      <td>hsd tới 251 y chang chị mây tư vấn chĩ mây dễ ...</td>\n",
              "      <td>Lotte</td>\n",
              "    </tr>\n",
              "  </tbody>\n",
              "</table>\n",
              "</div>"
            ],
            "text/plain": [
              "   Unnamed: 0  ... ttn_thuong_hieu\n",
              "0           0  ...        No Brand\n",
              "1           1  ...        No Brand\n",
              "2           2  ...        No Brand\n",
              "3           3  ...        No Brand\n",
              "4           4  ...           Lotte\n",
              "\n",
              "[5 rows x 5 columns]"
            ]
          },
          "metadata": {},
          "execution_count": 5
        }
      ]
    },
    {
      "cell_type": "code",
      "source": [
        "\n",
        "statics = df[\"ttn_bl_diem\"].value_counts().to_frame()\n",
        "print(statics)\n",
        "\n",
        "labels = statics.index.tolist()\n",
        "counts = statics[\"ttn_bl_diem\"].tolist()\n",
        "plt.figure()\n",
        "plt.bar(range(len(counts)), counts, color = ['yellow', 'orange', 'green', 'red', 'yellow'], alpha = .7)\n",
        "plt.xticks(range(len(counts)), labels, rotation = 0)\n",
        "plt.title('Số lượng nhãn')\n",
        "plt.show()"
      ],
      "metadata": {
        "colab": {
          "base_uri": "https://localhost:8080/",
          "height": 386
        },
        "id": "nu1ULVMD5yFV",
        "outputId": "bd171007-24f9-4d55-ecd9-e838b4e62c0b"
      },
      "execution_count": null,
      "outputs": [
        {
          "output_type": "stream",
          "name": "stdout",
          "text": [
            "   ttn_bl_diem\n",
            "5         4823\n",
            "4         4546\n",
            "3          540\n",
            "1           89\n",
            "2           68\n"
          ]
        },
        {
          "output_type": "display_data",
          "data": {
            "image/png": "[encoded data removed]",
            "text/plain": [
              "<Figure size 432x288 with 1 Axes>"
            ]
          },
          "metadata": {
            "needs_background": "light"
          }
        }
      ]
    },
    {
      "cell_type": "code",
      "source": [
        "X_data = df[\"ttn_bl_noi_dung\"]\n",
        "y_data = df[\"ttn_bl_diem\"]\n",
        "print(len(X_data),len(y_data))"
      ],
      "metadata": {
        "colab": {
          "base_uri": "https://localhost:8080/"
        },
        "id": "rdlPATGH3Y4r",
        "outputId": "7a13332a-3db4-4b03-b631-c4e2bec9870f"
      },
      "execution_count": null,
      "outputs": [
        {
          "output_type": "stream",
          "name": "stdout",
          "text": [
            "10066 10066\n"
          ]
        }
      ]
    },
    {
      "cell_type": "code",
      "metadata": {
        "colab": {
          "base_uri": "https://localhost:8080/"
        },
        "id": "hLhI7ND2yZie",
        "outputId": "1ae8b31a-bcf3-4f45-af74-7858478a3886"
      },
      "source": [
        "s = X_data[0]\n",
        "print(clean_doc(s))"
      ],
      "execution_count": null,
      "outputs": [
        {
          "output_type": "stream",
          "name": "stdout",
          "text": [
            "chất_lượng sản_phẩm tuyệt_vời\n"
          ]
        }
      ]
    },
    {
      "cell_type": "code",
      "metadata": {
        "id": "bo39C4xTyZif",
        "colab": {
          "base_uri": "https://localhost:8080/"
        },
        "outputId": "b2412c28-7112-4a58-ea85-d3a8129812cc"
      },
      "source": [
        "X_data_proceed = []\n",
        "y_data_encoded = []\n",
        "for index,data in enumerate(X_data):\n",
        "    X_data_proceed.append(clean_doc(data))\n",
        "    y_data_encoded.append(int(y_data[index]))\n",
        "\n",
        "# Hiển thị ví dụ\n",
        "print(X_data_proceed[0])\n",
        "print(y_data_encoded[0])"
      ],
      "execution_count": null,
      "outputs": [
        {
          "output_type": "stream",
          "name": "stdout",
          "text": [
            "chất_lượng sản_phẩm tuyệt_vời\n",
            "5\n"
          ]
        }
      ]
    },
    {
      "cell_type": "code",
      "metadata": {
        "colab": {
          "base_uri": "https://localhost:8080/"
        },
        "id": "3QM9-UbcyZih",
        "outputId": "8c6db040-a22c-4b2c-8600-3f1f09604b8c"
      },
      "source": [
        "from sklearn.feature_extraction.text import TfidfVectorizer\n",
        "\n",
        "vectorizer = TfidfVectorizer(analyzer='word', ngram_range=(1, 1),use_idf=True, smooth_idf=True)\n",
        "\n",
        "X_data_tfidf = vectorizer.fit_transform(X_data_proceed)\n",
        "\n",
        "print(\"Tổng số từ vựng khi đánh chỉ số TF-IDF\")\n",
        "print(vectorizer.get_feature_names())\n",
        "\n",
        "print(\"Kích thước của vector dựa trên biểu diễn TF-IDF: \", X_data_tfidf.shape)"
      ],
      "execution_count": null,
      "outputs": [
        {
          "output_type": "stream",
          "name": "stdout",
          "text": [
            "Tổng số từ vựng khi đánh chỉ số TF-IDF\n",
            "['ad', 'adidas', 'ae', 'ah', 'ahihi', 'ai', 'ai_ngờ', 'ai_đời', 'ak', 'alo', 'am', 'am_hiểu', 'an', 'an_k', 'an_toàn', 'an_tâm', 'and', 'android', 'anger', 'angry', 'anguished', 'anh', 'anh_chị', 'anh_chị_em', 'anh_em', 'anh_trai', 'anw', 'anxious', 'ao', 'ap', 'auth', 'auto', 'aw', 'aó', 'ba', 'ba_lô', 'backhand', 'bagy', 'bai', 'balloon', 'balo', 'ban', 'ban_công', 'ban_ung', 'ban_đầu', 'bang', 'banh', 'bao', 'bao_bì', 'bao_bọc', 'bao_bố', 'bao_giờ', 'bao_gói', 'bao_gồm', 'bao_lâu', 'bao_nhiêu', 'bao_tay', 'bao_tải', 'bas', 'base', 'basic', 'bat', 'bay', 'bay_hơi', 'be', 'be_bé', 'beaming', 'beating', 'ben', 'best', 'bgio', 'bh', 'bi', 'bia', 'bich', 'biet', 'big', 'bigsize', 'bik', 'bikini', 'bil', 'bin', 'binh', 'bit', 'biêt', 'biến_dạng', 'biến_hoá', 'biết', 'biết_bao_nhiêu', 'biết_mấy', 'biển', 'biệt', 'biệt_tăm', 'bj', 'bjk', 'bjo', 'black', 'blossom', 'blowing', 'blue', 'bluetoth', 'bn', 'bo', 'bo_bo', 'body', 'bok', 'bon', 'bon_chen', 'bong', 'bong_bóng', 'bonus', 'bos', 'bouquet', 'box', 'bra', 'bt', 'bth', 'bthg', 'bts', 'bu', 'bug', 'bui', 'bung', 'buon', 'but', 'buôn', 'buôn_bán', 'buồn', 'buồn_cười', 'buổi', 'buộc', 'buột', 'by', 'bye', 'bà', 'bà_ba', 'bà_con', 'bà_già', 'bà_xã', 'bài', 'bài_học', 'bàn', 'bàn_chân', 'bàn_chải', 'bàn_cãi', 'bàn_phím', 'bàn_tay', 'bàn_thờ', 'bày', 'bày_tỏ', 'bày_đặt', 'bác', 'bám', 'bán', 'bán_buôn_vậy', 'bán_chạy', 'bánh', 'bánh_bèo', 'bánh_mì', 'bánh_tráng', 'bánh_xe', 'báo', 'báo_nói', 'bát', 'bân', 'bây', 'bây_giờ', 'bã', 'bã_trầu', 'bão', 'bè', 'bè_bè', 'bèo', 'bèo_nhèo', 'bé', 'bé_con', 'bé_nhỏ', 'béo', 'bét', 'bên', 'bì', 'bì_thư', 'bìa', 'bìa_trong', 'bình', 'bình_chánh', 'bình_dân', 'bình_luận', 'bình_phục_vụ', 'bình_thường', 'bí', 'bít', 'bít_tất', 'bò', 'bò_sát', 'bó', 'bó_tay', 'bóc', 'bóc_tem', 'bóng', 'bóng_láng', 'bóng_vậy', 'bóp', 'bóp_bụng', 'bóp_méo', 'bóp_mỡ', 'bôi', 'bông', 'bông_tai', 'bõ', 'bù', 'bù_tiên', 'bù_đắp', 'bùi', 'bùn', 'bùng', 'bú', 'bút', 'bút_bi', 'bút_dạ', 'bút_lông', 'băn_khoăn', 'băng', 'băng_dính', 'băng_keo', 'bơ', 'bơ_di', 'bơi', 'bơm', 'bưu', 'bưu_kiện', 'bưu_phẩm', 'bưu_điện', 'bước', 'bước_đầu', 'bướm', 'bạc', 'bạc_hà', 'bạc_màu', 'bạn', 'bạn_bè', 'bản', 'bản_thân', 'bảng', 'bảng_màu', 'bảng_số_đo', 'bảo', 'bảo_hiểm_trắng', 'bảo_hành', 'bảo_quản', 'bảo_vệ', 'bảo_đảm', 'bấm', 'bấm_bụng', 'bấm_hủy', 'bất', 'bất_cần', 'bất_cứ', 'bất_kì', 'bất_kể', 'bất_li_thân', 'bất_lực', 'bất_mãn', 'bất_ngờ', 'bất_tiện', 'bất_đắc', 'bầu', 'bầu_bí', 'bầu_chất', 'bầu_dục', 'bầu_ok', 'bầu_ăn', 'bẩn', 'bận', 'bật', 'bậy', 'bắc', 'bắn', 'bắp', 'bắp_chuối', 'bắp_chân', 'bắp_tay', 'bắt', 'bắt_mắt', 'bắt_đầu', 'bắt_đền', 'bằg', 'bằng', 'bằng_chứng', 'bằng_lòng', 'bằng_phẳng', 'bẹp', 'bẻ', 'bến', 'bếp', 'bề', 'bề_mặt', 'bề_ngoài', 'bền', 'bể', 'bệnh', 'bỉm', 'bị', 'bị_thịt', 'bịch', 'bọc', 'bọn', 'bọt', 'bỏ', 'bỏ_qua', 'bỏ_qua_lại', 'bỏ_xó', 'bố', 'bố_láo', 'bố_mẹ', 'bố_thí', 'bốc', 'bốn', 'bồ', 'bồ_kết', 'bổ', 'bổ_dưỡng', 'bổ_sung', 'bổ_ích', 'bộ', 'bộ_phận', 'bộ_đội', 'bội', 'bột', 'bớt', 'bởi', 'bởi_vì', 'bục', 'bụi', 'bụng', 'bức', 'bức_xúc', 'bửa', 'bữa', 'bữa_nay', 'bự', 'bực', 'bực_bội', 'bực_mình', 'ca', 'cac', 'cach', 'cafe', 'cai', 'cam', 'cam_kết', 'camera', 'can', 'canh', 'canon', 'cao', 'cao_cấp', 'cao_su', 'cao_sản_phẩm', 'cao_đẹp', 'cap', 'card', 'cardigan', 'caro', 'carton', 'case', 'cat', 'cau', 'cay', 'cay_cay', 'cb', 'cbi', 'ce', 'cg', 'ch', 'cha', 'chac', 'chai', 'chai_nửa', 'cham', 'chan', 'chanel', 'chang', 'chanh', 'chanh_sả', 'chao', 'chao_ôi', 'chap', 'charm', 'chat', 'chata', 'chay', 'che', 'che_phủ', 'check', 'chek', 'chen', 'cherry', 'chi', 'chi_nhánh', 'chi_phí', 'chi_tiết', 'chia', 'chia_sẻ', 'chia_tay', 'chieu', 'chim', 'china', 'chinh', 'chip', 'chiu', 'chiêc', 'chiên', 'chiếc', 'chiết', 'chiều', 'chiều_hôm', 'chiều_tối', 'chj', 'cho', 'cho_cùng', 'cho_dù', 'cho_nên', 'cho_qua', 'cho_xong', 'choi', 'chon', 'choé', 'chu', 'chu_đáo', 'chua', 'chua_ngọt', 'chuan', 'chuc', 'chug', 'chui', 'chui_k', 'chun', 'chung', 'chung_chung', 'chung_cư', 'chung_quy', 'chung_quy_lại', 'chup', 'chut', 'chuyen', 'chuyên', 'chuyên_chú', 'chuyên_môn', 'chuyên_nghiệp', 'chuyển', 'chuyển_giao', 'chuyển_khoản', 'chuyển_phát', 'chuyển_đổi', 'chuyện', 'chuông', 'chuẩn', 'chuẩn_bị', 'chuẩn_chi_tiết', 'chuẩn_dáng', 'chuẩn_son', 'chuẩn_thun', 'chuẩn_xác', 'chuẩn_y', 'chuối', 'chuột', 'chà', 'chà_buồn', 'chà_bá', 'chà_chất_lượng', 'chà_mãi', 'chà_phát', 'chà_tay', 'chà_vào', 'chành', 'chán', 'chánh', 'cháo', 'cháo_lòng', 'chát', 'cháu', 'cháy', 'cháy_túi', 'châ', 'châm', 'châm_chích', 'chân', 'chân_chính', 'chân_chất_lượng', 'chân_không', 'chân_như', 'chân_thành', 'chân_thật', 'chân_thực', 'chân_đế', 'chât', 'châu', 'chèn', 'chèn_ép', 'chén', 'chéo', 'chê', 'chê_trách', 'chênh', 'chênh_lệch', 'chì', 'chí', 'chín', 'chính', 'chính_thức', 'chính_tả', 'chính_xác', 'chíp', 'chó', 'chóc', 'chóe', 'chói', 'chóng', 'chóng_mặt', 'chùi', 'chùm', 'chú', 'chú_thích', 'chú_ý', 'chúc', 'chúc_mừng', 'chúng', 'chúng_nó', 'chút', 'chút_xíu', 'chút_ít', 'chútnhưng', 'chăm', 'chăm_chút', 'chăm_chỉ', 'chăm_sóc', 'chăn', 'chăng', 'chăng_nữa', 'chĩ', 'chơi', 'chơi_xỏ', 'chư', 'chưa', 'chưa_qua', 'chương_trình', 'chạm', 'chạy', 'chả', 'chả_là', 'chải', 'chảnh', 'chảo', 'chảo_sơn', 'chảy', 'chảy_máu', 'chấ', 'chấm', 'chấp', 'chấp_nhận', 'chất', 'chất_hóa', 'chất_liệu', 'chất_lượng', 'chất_lỏng', 'chất_thun', 'chấtlượngsảnphẩmổno', 'chần', 'chần_chừ', 'chậm', 'chậm_trễ', 'chập', 'chập_chờn', 'chật', 'chật_cứng', 'chật_ních', 'chật_vật', 'chắc', 'chắc_chân', 'chắc_chắn', 'chắc_tay', 'chắn', 'chắnchất', 'chắnchất_son', 'chắnchủ', 'chắngiao', 'chắnhang', 'chắnhàng', 'chắnhưng', 'chắnmik', 'chắnmua', 'chắnmình', 'chắnquần', 'chắnrất', 'chắnshop', 'chắnsẽ', 'chắnthời', 'chắnvải', 'chắnáo', 'chẳng', 'chẳng_hạn', 'chẳng_lẽ', 'chẳng_nhẽ', 'chặn', 'chặt', 'chặt_chẽ', 'chẹp', 'chế', 'chế_biến', 'chế_độ', 'chết', 'chết_mê', 'chết_mệt', 'chỉ', 'chỉ_bảo', 'chỉ_dẫn', 'chỉ_dẫn_chứng', 'chỉ_tội', 'chỉ_định', 'chỉn_chu', 'chỉnh', 'chỉnh_lý', 'chỉnh_sửa', 'chỉrách', 'chị', 'chị_em', 'chịu', 'chịu_khó', 'chọc', 'chọn', 'chọn_lựa', 'chối', 'chống', 'chống_hóa', 'chốt', 'chồng', 'chổ', 'chổi', 'chổi_than', 'chỗ', 'chỗ_nói', 'chỗk', 'chớ', 'chớp', 'chờ', 'chờ_đợi', 'chợ', 'chợ_vậy', 'chục', 'chụp', 'chủ', 'chủ_nhật', 'chủ_quan', 'chủ_tâm_lý', 'chủ_ung', 'chủ_yếu', 'chủ_đề', 'chủ_động', 'chủng', 'chủng_loại', 'chứ', 'chứ_lại', 'chứa', 'chứng_minh', 'chứng_tỏ', 'chừ', 'chừa', 'chừng', 'chử', 'chửi', 'chữ', 'chữ_nhật', 'chữ_nổi', 'ciu', 'cj', 'ck', 'cl', 'clapping', 'clip', 'closed', 'clover', 'club', 'cm', 'cmnr', 'cmt', 'cn', 'co', 'co_dãn', 'co_giãn', 'co_giản', 'co_ro', 'co_rúm', 'coa', 'coa_vẻ', 'code', 'coi', 'coi_bộ', 'col', 'collision', 'combo', 'coment', 'comet', 'company', 'con', 'con_cháu', 'con_em', 'con_gái', 'con_mẹ', 'con_nít', 'con_trai', 'confounded', 'confused', 'cong', 'converse', 'copy', 'coton', 'coton_họa', 'couple', 'crop', 'croptop', 'croptop_ngang_rốn', 'cross', 'crt', 'crush', 'crying', 'cskh', 'ctrai', 'cty', 'cu', 'cua', 'cuc', 'cug', 'cung', 'cung_cấp', 'cung_k', 'cung_ứng', 'cup', 'cute', 'cuối', 'cuối_cùng', 'cuốn', 'cuốn_hút', 'cuộc', 'cuộc_gọi', 'cuộn', 'cv', 'cx', 'cà', 'cà_phê', 'cài', 'cài_đặt', 'càn', 'càng', 'cào', 'cá', 'cá_heo', 'cá_hồng', 'cá_mập', 'cá_ngừ', 'cá_nhân', 'cá_sấu', 'cá_tính', 'các', 'cách', 'cái', 'cám', 'cám_ơn', 'cán', 'cánh', 'cánh_gà', 'cánh_quạt', 'cánh_sen', 'cánh_tay', 'cánh_tay_áo', 'cáo', 'cáp', 'cát', 'cân', 'cân_nhắc', 'cân_xứng', 'cân_đối', 'câu', 'câu_khách_hàng', 'câu_đầu_tiên', 'cây', 'cây_bút', 'cây_số', 'cãi', 'còn', 'có', 'có_dễ', 'có_giá', 'có_hạn', 'có_lý_do', 'có_lẽ', 'có_mang', 'có_nhân_viên', 'có_thể', 'có_ích', 'có_ăn', 'có_điều', 'cô', 'cô_bác', 'cô_hồn', 'cô_đồng_nghiệp', 'côg', 'công', 'công_di', 'công_dụng', 'công_nghiệp', 'công_nghệ', 'công_nhận', 'công_sở', 'công_sức', 'công_ty', 'công_tắc', 'công_việc', 'công_đoạn', 'cùg', 'cùi', 'cùng', 'cú', 'cú_mèo', 'cúc', 'cúc_bấm', 'cúc_cu', 'cúc_trắng', 'cúng', 'cúp', 'căng', 'cũ', 'cũ_kĩ', 'cũ_kỹ', 'cũ_vậy', 'cũg', 'cũg_vậy', 'cũn', 'cũn_cỡn', 'cũng', 'cũng_nên', 'cơ', 'cơ_bản', 'cơ_chế', 'cơ_học', 'cơ_hội', 'cơ_mà', 'cơ_số', 'cơ_thể', 'cơ_địa', 'cơm', 'cơm_cháo', 'cơn', 'cư', 'cư_xử', 'cư_xử_tử_tế', 'cưc', 'cưng', 'cước', 'cước_phí', 'cước_vận_chuyển', 'cưới', 'cướp', 'cười', 'cường_lực', 'cạch', 'cạn', 'cạn_lời', 'cạnh', 'cạnh_tranh', 'cạp', 'cạp_quần', 'cạp_quần_k', 'cả', 'cả_tin', 'cải', 'cải_thiện', 'cảm', 'cảm_biến', 'cảm_giác', 'cảm_mơn', 'cảm_nhận', 'cảm_quan', 'cảm_thấy', 'cảm_tình', 'cảm_tưởng', 'cảm_xúc', 'cảm_động', 'cảm_ơn', 'cảm_ứng', 'cản', 'cảnh', 'cảnh_báo', 'cấn', 'cấp', 'cấp_tốc', 'cất', 'cấu', 'cấu_hình', 'cấu_tạo', 'cầm', 'cầm_chắc_tay', 'cầm_hơi', 'cần', 'cần_thiết', 'cầu', 'cầu_vai', 'cẩn', 'cẩn_thận', 'cẩn_trọng', 'cẩu_thả', 'cận', 'cập_nhật', 'cậu', 'cắm', 'cắm_đầu', 'cắp', 'cắt', 'cặp', 'cọ', 'cọc', 'cọng', 'cố', 'cố_gắng', 'cố_tình', 'cố_ý', 'cố_định', 'cốc', 'cốt', 'cồng_kềnh', 'cổ', 'cổ_chân', 'cổ_tay', 'cổ_tay_áo', 'cổ_vậy', 'cổng', 'cộc', 'cộc_tới_rốn', 'cộng', 'cộng_tác', 'cột', 'cờ', 'cởi', 'cỡ', 'cỡn', 'cụ', 'cụ_thể', 'cục', 'cụt', 'củ', 'củ_cải', 'của', 'củng', 'cứ', 'cứ_việc', 'cứng', 'cứng_cáp', 'cứt', 'cứu_cánh', 'cử', 'cử_động', 'cửa', 'cửa_hàng', 'cực', 'cực_hình', 'cực_kì', 'cực_kỳ', 'cực_đại', 'da', 'da_bò', 'da_cam', 'da_màu', 'da_qua', 'da_trời', 'dac', 'dag', 'dai', 'dam', 'dan', 'dancing', 'dang', 'danh', 'danh_dự', 'danh_giá', 'dao', 'dark', 'dat', 'dat_vi', 'date', 'dau', 'day', 'day_cai', 'dc', 'dcáo', 'de', 'deal', 'decoration', 'del', 'delay', 'delivery', 'den', 'dep', 'deu', 'dgw', 'dhop', 'di', 'di_bóp', 'di_choi', 'di_chuyển', 'di_lam', 'di_mau', 'di_nay', 'di_vào', 'di_động', 'dieu', 'digiworld', 'digiworld_vậy', 'dinh', 'dinh_dưỡng', 'disappointed', 'diểm', 'diễn', 'diễn_tả', 'diện', 'diệt', 'dk', 'do', 'do_dự', 'dog', 'doi', 'dollar', 'don', 'dong', 'down', 'downcast', 'drooling', 'dt', 'dth', 'dthuong', 'dthw', 'du', 'du_em', 'du_học', 'dua', 'dug', 'dui', 'dung', 'dung_dịch', 'dung_lượng', 'dung_tích', 'duoc', 'duoi', 'duong', 'duy', 'duy_nhất', 'duy_nhất_là', 'duy_trì', 'duyên', 'duyệt', 'dv', 'dx', 'dài', 'dài_dài', 'dài_dài_dài', 'dài_dòng', 'dài_hạn', 'dài_lưng', 'dài_qua', 'dài_thòng', 'dàicho', 'dành', 'dày', 'dày_dạn', 'dày_dặn', 'dày_dặn_chất', 'dày_dặn_chữ', 'dày_dặn_dai', 'dày_dặn_hợp', 'dày_dặn_k', 'dày_dặn_mịn', 'dày_dặn_nha', 'dày_dặn_y', 'dàyđẹp', 'dág', 'dám', 'dán', 'dáng', 'dánh', 'dân', 'dâu', 'dâu_tây', 'dây', 'dây_chun', 'dây_cáp', 'dây_lưng', 'dây_thun', 'dã', 'dã_man', 'dãn', 'dão', 'dè', 'dép', 'dê', 'dì', 'dìm', 'dính', 'dít', 'dòng', 'dòng_điện', 'dóng', 'dô', 'dõi', 'dù', 'dù_cho', 'dù_sao', 'dùg', 'dùm', 'dùng', 'dùng_bữa', 'dúm', 'dúng', 'dơ', 'dơ_bẩn', 'dơcho', 'dơi', 'dư', 'dưa', 'dưa_leo', 'dưa_vậy', 'dương', 'dương_xỉ', 'dưới', 'dưỡng', 'dưỡng_chất', 'dược', 'dạ', 'dạ_dày', 'dạ_quang', 'dại', 'dạn', 'dạng', 'dạo', 'dạo_chất', 'dạy', 'dải_dọc', 'dải_ko', 'dấu', 'dấu_hiệu', 'dần', 'dầu', 'dầu_gội', 'dầu_hoả', 'dầu_máy', 'dầu_nhớt', 'dầu_tẩy_trang', 'dầy', 'dầy_dạn', 'dầy_dặn', 'dầy_dặn_chất', 'dầy_dặn_dáng', 'dẫm', 'dẫn', 'dập', 'dậy', 'dắt', 'dằn', 'dặm', 'dặn', 'dặn_chữ', 'dặn_k', 'dặn_kỷ', 'dặn_kỹ', 'dặnđẹp', 'dặt', 'dẹp', 'dẻ', 'dẻo', 'dẽ', 'dể', 'dễ', 'dễ_chịu', 'dễ_coi', 'dễ_dàng', 'dễ_thương', 'dễ_thương_cảm_ơn', 'dễ_tính', 'dệt', 'dệt_kim', 'dị', 'dị_ứng', 'dịch', 'dịch_chuyển', 'dịch_vụ', 'dịp', 'dịu', 'dịu_dàng', 'dọc', 'dỏm', 'dở', 'dở_chất_liệu', 'dở_hơi', 'dởm', 'dụ', 'dục', 'dụg', 'dụng', 'dụng_cụ', 'dừng', 'dữ', 'dữ_liệu', 'dữ_vậy', 'dự', 'dự_kiến', 'dự_phòng', 'dự_tính', 'dự_định', 'dựa', 'dựng', 'e_dè', 'e_ngại', 'e_sợ', 'elephant', 'em', 'em_em', 'em_gái', 'em_trai', 'envelope', 'eo', 'eo_ôi', 'evil', 'evoucher', 'excelent', 'exclamation', 'expressionless', 'eyes', 'face', 'facebok', 'facepalming', 'fai', 'fair', 'fake', 'fam', 'fan', 'fashion', 'fast', 'fb', 'fback', 'fear', 'fearful', 'fedback', 'female', 'fire', 'fix', 'flash', 'flashsale', 'floor', 'flushed', 'fom', 'fomr', 'food', 'for', 'form', 'four', 'fre', 'freship', 'fresize', 'fresz', 'from', 'frowning', 'fs', 'fu', 'ful', 'fải', 'ga', 'game', 'gang', 'gap', 'gel', 'gem', 'gen', 'gh', 'ghe', 'ghi', 'ghi_chú', 'ghi_chú_ý', 'ghi_chất', 'ghi_nhận', 'ghiền', 'ghn', 'ghtk', 'ghé', 'ghép', 'ghét', 'ghê', 'ghê_ghê', 'ghê_gớm', 'ghê_vi', 'ghê_vậy', 'ghê_á', 'gi', 'gi_ung', 'gia', 'gia_công', 'gia_cố', 'gia_hạn', 'gia_tien', 'gia_tiên', 'gia_đình', 'giac', 'giai', 'giam', 'gian', 'gian_dối', 'gian_hàng', 'giao', 'giao_dịch', 'giao_hủy_đơn', 'giao_nhận', 'giao_thông', 'giao_thừa', 'giao_tiếp', 'giao_vậy', 'giat', 'giay', 'gift', 'gile', 'gio', 'giog', 'giong', 'già', 'giàu', 'giày', 'giày_dép', 'giá', 'giá_cả', 'giá_như', 'giá_như_vậy', 'giá_thành', 'giá_trị', 'giác', 'giám', 'gián', 'giáo', 'giáo_hoàng', 'giáo_trình', 'giây', 'giãn', 'gião', 'giòn', 'gió', 'gióng', 'giông', 'giùm', 'giúp', 'giúp_đỡ', 'giơ', 'giả', 'giả_dối', 'giả_tạo', 'giải', 'giải_cứu', 'giải_quyết', 'giải_thích', 'giải_trình', 'giải_trí', 'giải_đáp', 'giảm', 'giảm_giá', 'giản', 'giấu', 'giấy', 'giầy', 'giật', 'giật_mình', 'giặc', 'giặt', 'giẻ', 'giọng', 'giọng_điệu', 'giỏ', 'giốg', 'giống', 'giống_hệt', 'giới', 'giới_hạn', 'giới_thiệu', 'giờ', 'giục', 'giữ', 'giữa', 'giựt', 'gj', 'gjao', 'glowing', 'god', 'goi', 'gom', 'gon', 'great', 'green', 'grimacing', 'grinning', 'growing', 'gt', 'gui', 'gym', 'gà', 'gài', 'gàng', 'gái', 'gánh', 'gáy', 'gân', 'gân_cổ', 'gây', 'gãy', 'gém', 'gê', 'gì', 'gía', 'góc', 'gói', 'góp', 'góp_ý', 'gót', 'găng_tay', 'gương', 'gạch', 'gạo', 'gạt', 'gấp', 'gấu', 'gấu_chất', 'gần', 'gần_xa', 'gầy', 'gầy_k', 'gập', 'gậy', 'gắn', 'gắn_bó', 'gắng', 'gắt', 'gặp', 'gỉ', 'gọi', 'gọn', 'gọn_gàng', 'gọn_nhẹ', 'gọng', 'gốc', 'gối', 'gồm', 'gỗ', 'gội', 'gớm', 'gởi', 'gỡ', 'gợi_cảm', 'gợi_ý', 'gửi', 'gữi', 'h_k', 'ha', 'ha_ha', 'hag', 'haha', 'hai', 'hai_lòng', 'haiz', 'haiza', 'halo', 'ham', 'han', 'hand', 'handmade', 'hands', 'hang', 'hang_ben', 'hang_cu', 'hang_di_du', 'hang_dong', 'hang_e', 'hang_gia', 'hang_ho', 'hang_hợp', 'hang_k', 'hang_ko', 'hang_kì', 'hang_lộn', 'hang_nham', 'hang_nhanh', 'hang_nhe', 'hang_ok', 'hang_rat', 'hang_thi', 'hang_thiếu', 'hang_tra', 'hang_ung', 'hang_viet', 'hang_y', 'hanh', 'hao', 'hat', 'hay', 'hay_biết', 'hay_ho', 'hay_là', 'haz', 'hcm', 'hd', 'he', 'heart', 'hearts', 'heavy', 'hehe', 'hem', 'hen', 'heo', 'het', 'hg', 'hi', 'hi_chất', 'hi_hi', 'hi_vọng', 'hibiscus', 'hic', 'hichic', 'hieu', 'highly', 'hih', 'hihi', 'hinh', 'hiu', 'hiu_hiu', 'hiuhiu', 'hix', 'hiểm', 'hiểu', 'hiểu_biết', 'hiện', 'hiện_nay', 'hiện_tượng', 'hiện_tại', 'hiệu', 'hiệu_quả', 'hiệu_suất', 'hjh', 'hjhj', 'hjx', 'hk', 'hm', 'hn', 'hnay', 'ho', 'hoa', 'hoa_hồng', 'hoa_quả', 'hoa_văn', 'hoac', 'hoai', 'hoan', 'hoang', 'hoang_mang', 'hoang_phí', 'hodie', 'hog', 'hoi', 'hok', 'hom', 'home', 'hon', 'hong', 'hong_k', 'hong_nha', 'hop', 'horns', 'hot', 'hoà', 'hoà_tan', 'hoà_đồng', 'hoài', 'hoàn', 'hoàn_chỉnh', 'hoàn_hảo', 'hoàn_thiện', 'hoàn_thành', 'hoàn_toàn', 'hoàn_trả', 'hoàng', 'hoá', 'hoá_chất', 'hoá_học', 'hoá_ra', 'hoá_đơn', 'hoạ_tiết', 'hoạt', 'hoạt_động', 'hoả_tốc', 'hoắc', 'hoặc', 'hqa', 'hqua', 'hsd', 'htrc', 'hu', 'hu_hu', 'huhu', 'huhuhu', 'hundred', 'hushed', 'huy', 'huỷ', 'hy', 'hy_vọng', 'hà', 'hà_e', 'hà_mã', 'hà_nội', 'hàbg', 'hàg', 'hàh', 'hài', 'hài_lòng', 'hàn', 'hàn_quốc', 'hàng', 'hàng_chợ', 'hàng_hiệu', 'hàng_hoá', 'hàng_hoá_chất', 'hàng_hoá_chất_lượng', 'hàng_hóa', 'hàng_hỏa_tốc', 'hàng_không', 'hàng_mã', 'hàng_nhe', 'hàng_xách', 'hàng_xóm', 'hàng_đầu', 'hàng_đầu_tiên', 'hàngmà', 'hành', 'hành_vi', 'há', 'háng', 'hãm', 'hãng', 'hãy', 'hè', 'hên', 'hì', 'hìh', 'hình', 'hình_dung', 'hình_dáng', 'hình_hài_lòng', 'hình_mẫu', 'hình_mẫu_mã', 'hình_nhân_viên', 'hình_như', 'hình_thế', 'hình_thế_nào', 'hình_thức', 'hình_vẽ', 'hình_ảnh', 'hìnhchất', 'hìnhchất_lượng', 'hìnhchỉ', 'hìnhchị', 'hìnhgiao', 'hìnhgiá', 'hìnhmặc', 'hìnhmỗi', 'hìnhnhưng', 'hìnhshop', 'hìnhthời', 'hìnhtuy', 'hí', 'hòa', 'hóa', 'hóa_đơn', 'hóng', 'hô', 'hôi', 'hôi_nhựa', 'hôm', 'hôm_nay', 'hôm_qua', 'hông', 'hôp', 'hút', 'hút_bụi', 'hút_hồn', 'hũ', 'hơi', 'hơn', 'hơn_nữa', 'hơp', 'hơpj', 'hư', 'hư_hại', 'hư_hỏng', 'hư_không', 'hư_đồ', 'hưng', 'hương', 'hương_hoa', 'hương_vị', 'hướng', 'hướng_dương', 'hướng_dẫn', 'hướng_dẫn_nhiệt_tình', 'hường', 'hưởng', 'hạ', 'hạ_hỏa', 'hạ_size', 'hạ_sz', 'hạc', 'hạn', 'hạn_chế', 'hạn_dùng', 'hạt', 'hạt_dẻ', 'hạt_giống', 'hả', 'hải', 'hải_sản', 'hảo', 'hấp', 'hấp_dẫn', 'hầu_hết', 'hầu_như', 'hẫng', 'hận', 'hậu_mãi', 'hắc', 'hằn', 'hằng', 'hẳn', 'hẹn', 'hẹp', 'hết', 'hết_hồn', 'hết_lòng', 'hết_mình', 'hết_mức', 'hết_sức', 'hết_sức_mua', 'hết_tức', 'hết_ý', 'hề', 'hệ', 'hệ_thống', 'hệt', 'hịn', 'họ', 'họa', 'học', 'học_sinh', 'học_viên', 'họp', 'hỏi', 'hỏi_han', 'hỏi_thăm', 'hỏn', 'hỏng', 'hối', 'hối_hận', 'hối_lỗi', 'hốt', 'hồ', 'hồi', 'hồi_hộp', 'hồi_âm', 'hồi_đáp', 'hồn', 'hồng', 'hồng_sen', 'hổ', 'hỗ_trợ', 'hộ', 'hội', 'hộp', 'hộpset', 'hột', 'hớ', 'hời', 'hời_hợt', 'hở', 'hợp', 'hợp_chất_lượng', 'hợp_khẩu_vị', 'hợp_lí', 'hợp_lí_tính', 'hợp_lý', 'hợp_lệ', 'hợp_thời_trang', 'hợp_tác', 'hợp_ý', 'hợt', 'hụt', 'hụt_hẫng', 'hủ', 'hủy', 'hủy_đơn', 'hứa', 'hứa_hẹn', 'hứng', 'hứng_thú', 'hữu_ích', 'ib', 'ih', 'ik', 'im', 'im_lặng', 'im_re', 'in', 'in_như', 'inb', 'inbox', 'inbox_hủy', 'incoming', 'index', 'inox', 'iphone', 'iron', 'is', 'it', 'iu', 'iêu', 'jao', 'jean', 'jeans', 'ji', 'jimin', 'jk', 'jo', 'joy', 'jum', 'k_lộ', 'kaki', 'kate', 'kb', 'kc', 'kcn', 'kd', 'kem', 'kem_vân', 'keo', 'keu', 'kg', 'kh', 'kha', 'kha_khá', 'khac', 'khach', 'khan', 'khe', 'khen', 'khg', 'khi', 'khinh', 'khinh_thường', 'khiến', 'khiếp', 'khiếu', 'khiếu_nại', 'khj', 'kho', 'khoa', 'khoa_học', 'khoac', 'khoai', 'khoai_tây', 'khoan', 'khoe', 'khoen', 'khong', 'khoá', 'khoá_kéo', 'khoác', 'khoản', 'khoảng', 'khoảng_cách', 'khoẻ', 'khui', 'khung', 'khuy', 'khuyen', 'khuyên', 'khuyến', 'khuyến_cáo', 'khuyến_khích', 'khuyến_mãi', 'khuyến_mại', 'khuyết', 'khuyết_điểm', 'khuôn', 'khuôn_khổ', 'khuôn_mặt', 'khá', 'khác', 'khác_biệt', 'khác_nào', 'khách', 'khách_di', 'khách_hàng', 'khách_quan', 'khách_vậy', 'khái', 'khái_quát', 'khâu', 'khâu_vá', 'khéo', 'khét', 'khí', 'khí_cầu', 'khí_hậu', 'khích', 'khích_lệ', 'khít', 'khó', 'khó_chịu', 'khó_coi', 'khó_khăn', 'khó_tính', 'khó_vệ', 'khóa', 'khóc', 'khô', 'khô_cứng', 'khôbg', 'khôg', 'khôn', 'không', 'không_gian', 'không_kích', 'không_kích_hoạt', 'không_kích_ứng', 'không_những', 'không_thể', 'không_thể_nào', 'không_tưởng', 'không_đâu', 'khúc', 'khăn', 'khả_bai', 'khả_năng', 'khẩu', 'khẩu_trang', 'khẩu_vị', 'khắc', 'khắc_phục', 'khắp', 'khắp_phòng', 'khỏi', 'khốn_nạn', 'khổ', 'khổng_lồ', 'khớp', 'khủng', 'khủng_khiếp', 'khử', 'ki', 'kia', 'kich', 'kiem', 'kien', 'kieu', 'kim', 'kim_băng', 'kim_loại', 'kim_tuyến', 'kinh', 'kinh_doanh', 'kinh_khủng', 'kinh_khủng_khiếp', 'kinh_nghiệm', 'kiss', 'kissing', 'kiu', 'kiên_nhẫn', 'kiên_trì', 'kiếm', 'kiến', 'kiến_gió', 'kiến_nghị', 'kiến_vàng', 'kiềm', 'kiểm', 'kiểm_tra', 'kiểu', 'kiểu_cách', 'kiểu_dáng', 'kiểu_mẫu_mã', 'kiệm', 'kiện', 'kiện_cáo', 'km', 'kmđc', 'ko', 'ko_chất', 'ko_tích', 'korea', 'kp', 'kp_chất', 'kq', 'ks', 'ksao', 'kt', 'ktra', 'kug', 'kute', 'ky', 'kèm', 'kém', 'kémgiao', 'kémk', 'kémvải', 'kémáo', 'kén', 'kéo', 'kéo_k', 'kê', 'kêu', 'kêu_trừ', 'kì', 'kì_cục', 'kì_lạ', 'kì_thị', 'kì_vậy', 'kì_vọng', 'kìđế', 'kí', 'kích', 'kích_cỡ', 'kích_hoạt', 'kích_thước', 'kích_ứng', 'kín', 'kín_đáo', 'kính', 'ký', 'ký_ức', 'kĩ', 'kĩ_càng', 'kĩ_lưỡng', 'kĩ_thuật', 'kĩ_tính', 'kẹo', 'kẹo_cao_su', 'kẹo_date', 'kẹo_dâu', 'kẹo_mút', 'kẹo_ít', 'kẹp', 'kẹt', 'kẻ', 'kẻo', 'kế', 'kế_tiếp', 'kết', 'kết_cấu', 'kết_hợp', 'kết_luận', 'kết_nối', 'kết_quả', 'kể', 'kể_cả', 'kể_ra', 'kệ', 'kỉ', 'kịp', 'kịp_hủy', 'kịp_thời', 'kỳ', 'kỳ_cục', 'kỳ_lân', 'kỳ_vọng', 'kỷ', 'kỹ', 'kỹ_chất', 'kỹ_càng', 'kỹ_lưỡng', 'kỹ_thuật', 'kỹ_tính', 'la', 'la_mk', 'lai', 'lam', 'lan', 'lanh', 'lao', 'lao_động', 'lap', 'laptop', 'lau', 'lau_vậy', 'laughing', 'lavender', 'lay', 'lay_nham', 'lc', 'le', 'leaf', 'led', 'leging', 'lem', 'lem_nhem', 'len', 'lens', 'leo', 'letter', 'lg', 'li', 'li_thân', 'lien', 'lieu', 'light', 'like', 'linh', 'linh_hoạt', 'linh_tinh', 'linh_tính', 'linh_động', 'link', 'liên', 'liên_hệ', 'liên_hệ_e', 'liên_kết', 'liên_lạc', 'liên_quan', 'liên_tục', 'liêu', 'liền', 'liệt', 'liệu', 'liệu_trình', 'lm', 'ln', 'lo', 'lo_lắng', 'lo_nghĩ', 'lo_ngại', 'lo_sợ', 'loa', 'loai', 'loan', 'loang', 'loang_lổ', 'loay_hoay', 'loe', 'logo', 'loi', 'lomo', 'lon', 'long', 'long_lanh', 'long_vi', 'lot', 'loudly', 'love', 'loãng', 'loại', 'lsau', 'lu', 'lu_bu', 'lu_mờ_vẻ', 'lua', 'luc', 'lum', 'lun', 'lung', 'lung_linh', 'lung_tung', 'luog', 'luoin', 'luon', 'luong', 'luyện', 'luôn', 'luôn_luôn', 'luôn_tiện', 'luông', 'luônhân', 'luônmàu', 'luônshop', 'luọng', 'luợng', 'lv', 'ly', 'là', 'là_hơi', 'là_lượt', 'làm', 'làm_bàn', 'làm_bằng', 'làm_bộ', 'làm_dáng', 'làm_hàng', 'làm_khách', 'làm_khó', 'làm_nên', 'làm_phiền', 'làm_quà', 'làm_sao', 'làm_tròn', 'làm_tới', 'làm_việc', 'làm_ăn', 'làm_ăn_gian', 'làm_ăn_gian_dối', 'làm_ăn_may_mắn', 'làm_đẹp', 'làm_ơn', 'làn', 'lành', 'lá', 'láng', 'láo', 'lân', 'lâng_lâng', 'lâu', 'lâu_dài', 'lâu_lâu', 'lâu_nay', 'lây', 'lèo', 'lèo_nhèo', 'lèo_tèo', 'lém', 'lép', 'lét', 'lê', 'lê_thê', 'lên', 'lên_dây', 'lên_mặt', 'lên_tay', 'lì', 'lì_xì', 'lí', 'lí_do', 'lòg', 'lòi', 'lòng', 'lòng_đường', 'lòngcảm', 'lòngáo', 'lóng', 'lóng_lánh', 'lóng_ngóng', 'lót', 'lót_tay', 'lô', 'lông', 'lù_lù', 'lùi', 'lùm', 'lùm_tệ', 'lùn', 'lùn_tịt', 'lùng_bùng', 'lúc', 'lúc_nào', 'lún', 'lý', 'lý_do', 'lăm', 'lăms', 'lăn', 'lăn_tăn', 'lăn_đùng', 'lũ', 'lưa', 'lưa_thưa', 'lưng', 'lưng_chừng_như', 'lưngiặt', 'lưong', 'lưu', 'lưu_trữ', 'lưu_ý', 'lương', 'lương_tâm', 'lưới', 'lướt', 'lười', 'lược', 'lượg', 'lượng', 'lượt', 'lạ', 'lạ_lùng', 'lạc', 'lại', 'lạnh', 'lạp', 'lạp_xưởng', 'lả', 'lả_tả', 'lấm', 'lấm_tấm', 'lấp', 'lấp_lánh', 'lấy', 'lầ', 'lầm', 'lần', 'lẩu', 'lẫn', 'lận', 'lậngiao', 'lật', 'lắc', 'lắm', 'lắmnhưng', 'lắmàu', 'lắmình', 'lắmọi', 'lắmỗi', 'lắng_nghe', 'lắp', 'lắp_ráp', 'lắp_đặt', 'lắt_nhắt', 'lằn', 'lằng_nhằng', 'lẹ', 'lẻ', 'lẻo', 'lẽ', 'lẽ_ra', 'lẽo', 'lễ', 'lễ_hội', 'lễ_phép', 'lệ', 'lệch', 'lịch', 'lịch_sử', 'lịch_sự', 'lịch_thiệp', 'lịm', 'lọ', 'lọai', 'lọc', 'lọt', 'lỏng', 'lỏng_lẻo', 'lố', 'lốm_đốm', 'lồ', 'lồ_lộ', 'lồn', 'lồng', 'lổ', 'lổi', 'lỗ', 'lỗi', 'lỗi_chất', 'lỗi_lầm', 'lỗi_thời', 'lộ', 'lộc', 'lộn', 'lộn_xộn', 'lột', 'lớn', 'lớn_lao', 'lớp', 'lờ', 'lờ_mờ', 'lời', 'lời_giải', 'lời_nói', 'lởm', 'lỡ', 'lỡ_hóa', 'lợi', 'lợi_ích', 'lụa', 'lủng', 'lừ', 'lừ_lừ', 'lừa', 'lừa_bịp', 'lừa_gạt', 'lừa_đảo', 'lửa', 'lửng', 'lửng_vậy', 'lựa', 'lựa_chọn', 'lực', 'lỳ', 'ma', 'ma_bi', 'ma_bắt', 'ma_cai', 'ma_chất', 'ma_dong', 'ma_giày', 'ma_k', 'ma_kh', 'ma_ko', 'ma_lai', 'ma_nhan', 'ma_phai', 'ma_sao', 'ma_thiếu', 'ma_tiên', 'ma_tra', 'ma_y', 'mac', 'made', 'mag', 'mai', 'mai_mốt', 'mak', 'mal', 'man', 'mang', 'mang_tiếng', 'mango', 'manh', 'mark', 'mask', 'mat', 'mau', 'max', 'may', 'may_mà', 'may_mắn', 'may_mặc', 'may_ra', 'may_sao', 'may_đo', 'mb', 'me', 'medal', 'medium', 'mem', 'men', 'meo', 'meo_hóa', 'meries', 'mh', 'mi', 'mic', 'miem', 'mieng', 'mih', 'mik', 'military', 'min', 'minh', 'minh_da', 'minh_di_nha', 'minh_hoạ', 'minh_họa', 'mini', 'mix', 'miêu', 'miêu_tả', 'miếng', 'miết', 'miễn', 'miễn_phí', 'miệng', 'mjh', 'mjk', 'mjnh', 'mk', 'mn', 'mng', 'mo', 'moa', 'mog', 'moi', 'mon', 'money', 'mong', 'mong_chờ', 'mong_manh', 'mong_muốn', 'mong_đợi', 'monh', 'monkey', 'mop', 'mot', 'mouth', 'ms', 'mu', 'mu_chơi', 'mu_giày', 'mua', 'mua_bán', 'mua_sắm', 'mua_vậy', 'muc', 'mui', 'mun', 'muon', 'muối', 'muốn', 'muỗng', 'muộn', 'my', 'mà', 'mà_chất', 'mà_hóa', 'mà_lại', 'mài', 'màn', 'màn_hình', 'màn_hình_phẳng', 'màng', 'màu', 'màu_da', 'màu_mè', 'màu_mỡ_gà', 'màu_phấn', 'màu_sắc', 'màu_sắc_đẹp', 'màu_sắc_đẹp_họa', 'mày', 'má', 'mác', 'mái', 'mát', 'mát_mắt', 'mát_mẻ', 'mát_rượi', 'mát_tay', 'mát_tay_áo', 'máu', 'máy', 'máy_giặt', 'máy_in', 'máy_khoan', 'máy_lạnh', 'máy_tính', 'máy_xay', 'máy_ảnh', 'mât', 'mâu', 'mây', 'mã', 'mã_số', 'mã_vạch', 'mãi', 'mãi_đồ', 'mãn', 'mèo', 'méo', 'méo_mó', 'mép', 'mét', 'mê', 'mê_hoặc', 'mê_hồn', 'mê_li', 'mê_ly', 'mê_mẩn', 'mênh_mang', 'mênh_mông', 'mì', 'mìh', 'mìn', 'mình', 'mìnhcảm', 'mí', 'mía', 'mò', 'mòn', 'mòn_mỏi', 'móc', 'móc_nối', 'móc_túi', 'mói', 'món', 'móng', 'móp', 'mô', 'mô_hình', 'mô_tả', 'môi', 'môi_k', 'môi_son', 'môn', 'mông', 'môt', 'mõng', 'mùa', 'mùi', 'mùi_vị', 'mùng', 'mùng_vậy', 'mún', 'mút', 'măc', 'măt', 'mĩ', 'mĩ_phẩm', 'mũ', 'mũ_bé', 'mũ_chất', 'mũ_hih', 'mũ_k', 'mũ_y', 'mũi', 'mơ_ước', 'mơn', 'mưa', 'mướt', 'mướt_k', 'mướt_ko', 'mướt_sờ', 'mướt_tay', 'mượt', 'mượt_mà', 'mạ', 'mạc', 'mạch', 'mại', 'mạng', 'mạnh', 'mạnh_dạn', 'mạnh_tay', 'mảng', 'mảnh', 'mảnh_mai', 'mất', 'mất_công', 'mất_dạy', 'mất_lòng', 'mất_mặt', 'mất_ngủ', 'mấy', 'mấy_khi', 'mầm', 'mần', 'mầu', 'mầu_sắc', 'mẩn', 'mẩu', 'mẩy', 'mẫu', 'mẫu_mã', 'mập', 'mật', 'mật_ong', 'mắc', 'mắc_cỡ', 'mắc_lừa', 'mắm', 'mắng', 'mắng_chửi', 'mắt', 'mắt_cá', 'mắt_kính', 'mắt_thần', 'mắt_xích', 'mặc', 'mặc_cả', 'mặc_cảm_giác', 'mặc_cảm_thấy', 'mặc_dù', 'mặc_dầu', 'mặc_nhiên', 'mặc_ý', 'mặc_định', 'mặn', 'mặn_chát', 'mặt', 'mặt_hàng', 'mặt_nước', 'mặt_nạ', 'mặt_trái', 'mặt_trời', 'mẹ', 'mẻ', 'mến', 'mềm', 'mềm_họa', 'mềm_môi', 'mềm_mại', 'mềm_mỏng', 'mền', 'mệ', 'mệt', 'mệt_mỏi', 'mệt_nghỉ', 'mịn', 'mịn_họa', 'mịn_màng', 'mọi', 'mỏg', 'mỏi', 'mỏi_mòn', 'mỏi_mắt', 'mỏng', 'mỏng_dính', 'mỏng_manh', 'mỏng_mảnh', 'mỏng_tai', 'mỏng_tang', 'mỏng_tanh', 'mỏng_vậy', 'mỏngso', 'mỏngtiền', 'mốc', 'mốp', 'mốt', 'mồ_hôi', 'mỗi', 'mỗi_tội', 'một', 'một_chút', 'một_chút_xíu', 'một_cách', 'một_số', 'một_tí', 'một_tí_xíu', 'một_tẹo', 'một_vài', 'một_ít', 'một_đôi', 'mớ', 'mới', 'mới_lạ', 'mới_rồi', 'mới_tinh', 'mới_đó', 'mới_đầu', 'mờ', 'mờ_nhạt', 'mở', 'mở_hàng', 'mở_miệng', 'mỡ', 'mục', 'mục_nát', 'mục_đích', 'mụn', 'mức', 'mừng', 'mực', 'mực_vậy', 'mựcnói', 'mỳ', 'mỹ', 'mỹ_quan', 'na', 'nago', 'nai', 'nak', 'nakhông', 'nam', 'nam_châm', 'nam_nữ', 'nam_tính', 'nam_vô_địch', 'nang', 'nao', 'nau', 'navy', 'nay', 'nc', 'nch', 'nchug', 'nchung', 'ncl', 'ne', 'nen', 'nen_ung', 'neutral', 'ng', 'nga', 'ngan', 'ngang', 'ngay', 'ngay_ngắn', 'ngay_son', 'ngay_ung', 'nghe', 'nghen', 'nghi', 'nghi_ngại', 'nghi_ngờ', 'nghi_vấn', 'nghiêm', 'nghiêm_trọng', 'nghiên', 'nghiên_cứu', 'nghiêng', 'nghiệm', 'nghiện', 'nghiệp', 'nghiệp_dư', 'nghìn', 'nghìn_sao', 'nghĩ', 'nghĩ_lại', 'nghĩ_đồ', 'nghĩa', 'nghĩa_là', 'nghệ', 'nghệ_ăn', 'nghỉ', 'nghị', 'ngiệm', 'ngoai', 'ngon', 'ngon_lành', 'ngon_ngọt', 'ngon_ăn', 'ngoài', 'ngoài_ra', 'ngoại', 'ngoại_cỡ', 'ngoại_hình', 'ngoại_trừ', 'ngta', 'ngu', 'nguc', 'nguoi', 'nguy', 'nguy_cơ', 'nguy_hiểm', 'nguy_hiểm_vải', 'nguyên', 'nguyên_chất', 'nguyên_hình', 'nguyên_trạng', 'nguyên_vẹn', 'nguyên_vị', 'nguyễn', 'nguồn', 'nguồn_gốc', 'ngà', 'ngà_ngà', 'ngàn', 'ngày', 'ngày_càng', 'ngày_mai', 'ngày_một', 'ngày_nay', 'ngày_tháng', 'ngày_đêm', 'ngán', 'ngâm', 'ngã', 'ngòi', 'ngòi_bút', 'ngón', 'ngóng', 'ngăm', 'ngăn', 'ngăn_cách', 'ngăn_kéo', 'ngũ', 'ngũ_cốc', 'ngưng', 'ngươi', 'người', 'người_lớn', 'người_mẫu', 'người_nhà', 'người_ta', 'người_thân', 'người_yêu', 'ngược', 'ngược_lại', 'ngạc', 'ngạc_nhiên', 'ngại', 'ngả', 'ngất', 'ngất_ngây', 'ngần_ngại', 'ngầu', 'ngẫu', 'ngẫu_nhiên', 'ngậy', 'ngắn', 'ngắn_gọn', 'ngắn_nhe', 'ngắnhơi', 'ngắt', 'ngọc', 'ngọc_trai', 'ngọt', 'ngọt_bùi', 'ngọt_lịm', 'ngọt_ngào', 'ngố', 'ngồi', 'ngờ', 'ngờ_đâu', 'ngục', 'ngủ', 'ngứa', 'ngứa_ngáy', 'ngửi', 'ngực', 'nh', 'nha', 'nha_ban', 'nha_bà', 'nha_chất', 'nha_dài', 'nha_e', 'nha_ho', 'nha_k', 'nha_lai', 'nha_lượng', 'nha_mn', 'nha_nam', 'nha_shop', 'nha_son', 'nha_thấy', 'nha_ung', 'nha_y', 'nha_đây', 'nha_đồ', 'nhah', 'nhai', 'nham', 'nham_nhở', 'nhan', 'nhanh', 'nhanh_chóng', 'nhanh_chóng_mặt', 'nhanh_nhạy', 'nhanh_nhẹn', 'nhanh_nửa', 'nhanh_ung', 'nhanh_vi', 'nhanh_vậy', 'nhanh_đồ', 'nhanhcam', 'nhanhchất', 'nhanhchất_lượng', 'nhanhchủ', 'nhanhnhưng', 'nhanhnói', 'nhanhquần', 'nhanhrất', 'nhanhshop', 'nhanhsp', 'nhanhsản', 'nhanhthanks', 'nhanhtúi', 'nhanhvải', 'nhanhyêu', 'nhanhàng', 'nhanháo', 'nhanhđóng', 'nhanhđồ', 'nharất', 'nhat', 'nhau', 'nhe', 'nhem', 'nhen', 'nheo', 'nhg', 'nhi', 'nhien', 'nhiet', 'nhiet_tinh', 'nhieu', 'nhin', 'nhiu', 'nhièu', 'nhiên', 'nhiêncó', 'nhiêt', 'nhiêu', 'nhiều', 'nhiệt', 'nhiệt_tình', 'nhiệt_tình_cảm_thấy', 'nhiệt_tình_cảm_ơn', 'nhiệt_tình_nhân_viên', 'nhiệt_tình_yêu', 'nhjn', 'nhju', 'nho', 'nho_nhỏ', 'nhoa', 'nhoe', 'nhoè', 'nhu', 'nhu_cầu', 'nhue', 'nhug', 'nhung', 'nhung_k', 'nhung_kẻ', 'nhuộm', 'nhà', 'nhà_bếp', 'nhà_cửa', 'nhà_hàng', 'nhà_sách', 'nhà_thuốc', 'nhà_tắm', 'nhà_tớ', 'nhà_vậy', 'nhà_ăn', 'nhàu', 'nhàu_nát', 'nhá', 'nhái', 'nhám', 'nhánh', 'nháy', 'nhâm', 'nhâm_nhi', 'nhân', 'nhân_dịp', 'nhân_viên', 'nhân_vật', 'nhã', 'nhã_ý', 'nhãn', 'nhãn_mác', 'nhão', 'nhão_vậy', 'nhèo', 'nhé', 'nhé_chất', 'nhégiốg', 'nhét', 'nhéáo', 'nhìn', 'nhìn_chung', 'nhìu', 'nhìuchúc', 'nhích', 'nhòe', 'nhóm', 'nhăn', 'nhăn_nheo', 'nhăn_nhúm', 'nhĩ', 'nhũ', 'như', 'như_không', 'như_lượng', 'như_nửa', 'như_thường', 'như_thế', 'như_thể', 'như_vầy', 'như_vậy', 'như_ý', 'như_ý_muốn', 'như_ý_nghĩ', 'như_đồ', 'nhưg', 'nhưn', 'nhưng', 'nhưnh', 'nhưq', 'nhược_điểm', 'nhượng', 'nhượng_bộ', 'nhạc', 'nhạt', 'nhạt_chất', 'nhạy', 'nhạy_cảm', 'nhạy_cảm_minh', 'nhảy', 'nhấn', 'nhất', 'nhất_là', 'nhất_thiết', 'nhất_thời_gian', 'nhất_định', 'nhầm', 'nhầm_lẫn', 'nhần', 'nhầy', 'nhẫn', 'nhận', 'nhận_lời', 'nhận_xét', 'nhận_định', 'nhập', 'nhập_khẩu', 'nhật', 'nhắc', 'nhắc_nhở', 'nhắm', 'nhắm_mắt', 'nhắn', 'nhắn_gửi', 'nhắn_tin', 'nhắnmình', 'nhắt', 'nhằm', 'nhặt', 'nhẹ', 'nhẹ_nhàng', 'nhẹ_tay', 'nhẽ', 'nhỉ', 'nhỉ_hóa', 'nhỉnh', 'nhỏ', 'nhỏ_bé', 'nhỏ_con', 'nhỏ_nhắn', 'nhỏ_nhắn_tin', 'nhỏ_nhẹ', 'nhỏ_xíu', 'nhồi', 'nhồi_nhét', 'nhổ', 'nhớ', 'nhớt', 'nhờ', 'nhờ_vả', 'nhờn', 'nhở', 'nhỡ', 'nhứt', 'nhữg', 'những', 'nhựa', 'ni', 'nice', 'nike', 'nilon', 'nilon_vậy', 'nilong', 'niêm', 'niêm_phong', 'niềm', 'nk', 'nmd', 'no', 'noi', 'nong', 'nose', 'note', 'ns', 'nsx', 'nt', 'nta', 'ntn', 'ntnay', 'nua', 'nude', 'num', 'nuoc', 'nut', 'nv', 'nvay', 'nx', 'ny', 'nylon', 'nz', 'nà', 'nàng', 'nào', 'nào_ngờ', 'nào_ngờ_đâu', 'nàu', 'này', 'này_nọ', 'nách', 'nách_bó', 'nách_chất', 'nách_loi', 'nách_may', 'nách_măc', 'nách_rùi', 'nách_áo', 'nát', 'náy', 'nâng', 'nâng_giá', 'nâu', 'nã', 'nè', 'nèe', 'né', 'nén', 'nét', 'nêm', 'nên', 'nêu', 'ních', 'nít', 'níu', 'níu_kéo', 'nó', 'nói', 'nói_chung', 'nói_chuyện', 'nói_hủy', 'nói_khó', 'nói_ngang', 'nói_năng', 'nón', 'nóng', 'nóng_bức', 'nóng_tính', 'nóngdáng', 'nóngnhưng', 'nông', 'nông_trại', 'nùi', 'núm', 'nút', 'năm', 'năm_ngoái', 'năng', 'năng_động', 'nơ', 'nơi', 'nơm', 'nưa', 'nước', 'nước_cất', 'nước_hoa', 'nước_hoa_hồng', 'nước_mắm', 'nước_mắt', 'nước_ngoài', 'nước_ngọt', 'nước_tiểu', 'nước_ăn', 'nướng', 'nạ', 'nạc', 'nạp', 'nản', 'nảy', 'nấc', 'nấm', 'nấu', 'nấy', 'nấy_vậy', 'nẩy', 'nắm', 'nắng', 'nắng_mưa', 'nắp', 'nắp_son', 'nằm', 'nằm_xuống', 'nặg', 'nặng', 'nặng_ký', 'nặng_mùi', 'nặng_tay', 'nẹp', 'nẻo', 'nếp', 'nếu', 'nếu_như', 'nền', 'nỉ', 'nịnh', 'nịt', 'nọ', 'nối', 'nốt', 'nốt_nhạc', 'nồi', 'nồi_vẻ', 'nồng', 'nổ', 'nổi', 'nổi_bật', 'nỗi', 'nội', 'nội_dung', 'nội_thành', 'nội_y', 'nội_địa', 'nới', 'nở', 'nứt', 'nửa', 'nữ', 'nữ_tính', 'nữa', 'nữa_là', 'nữanói', 'nữarất', 'nữasẽ', 'nữayêu', 'nực', 'nực_cười', 'oan', 'oan_uổng', 'oan_ức', 'od', 'oder', 'of', 'oi', 'oi_ung', 'ok', 'ok_chất', 'ok_vi', 'okao', 'okay', 'okchất', 'oke', 'okey', 'okgiao', 'okhợp', 'oki', 'okie', 'oknhưg', 'oknhưng', 'okok', 'okquá', 'okrất', 'okshop', 'oksẽ', 'okê', 'ol', 'om', 'on', 'ong', 'onl', 'online', 'open', 'or', 'orange', 'ord', 'order', 'oversize', 'ox', 'oy', 'oải', 'packaging', 'pamper', 'pampers', 'panchan', 'party', 'pas', 'pc', 'pensive', 'perfect', 'persevering', 'person', 'pha', 'pha_ung', 'phai', 'phai_nhạt', 'pham', 'pham_ok', 'pham_tot', 'pham_y', 'phan', 'phan_an', 'phao', 'phat', 'phi', 'phi_bóng', 'phi_cao', 'phi_nylon', 'phi_sao', 'phi_tien', 'phi_van', 'phim', 'phiếu', 'phiền', 'phiền_hà', 'phiền_lòng', 'phiền_phức', 'phom', 'phong', 'phong_bì', 'phong_cách', 'phu', 'phu_hợp', 'phuc', 'phun', 'phàn', 'phàn_nàn', 'phá', 'phát', 'phát_hiện', 'phát_huy', 'phát_hành', 'phát_minh', 'phát_sinh', 'phát_triển', 'phát_tài', 'phát_âm', 'phát_đạt', 'phâm', 'phân', 'phân_biệt', 'phân_loại', 'phân_phát', 'phân_phối', 'phân_vân', 'phép', 'phê', 'phê_bình', 'phì', 'phí', 'phía', 'phím', 'phòng', 'phòng_trừ', 'phô', 'phô_mai', 'phông', 'phông_vậy', 'phù', 'phù_hợp', 'phù_hợp_chất_lượng', 'phù_nago', 'phút', 'phơi', 'phương', 'phạm', 'phạm_tội', 'phạm_vi', 'phải', 'phải_chăng', 'phảm', 'phản_cảm', 'phản_hồi', 'phản_lượng', 'phản_quang', 'phản_shop', 'phản_sớm', 'phản_ánh', 'phản_đèn', 'phản_ảnh', 'phấn', 'phất', 'phầm', 'phần', 'phần_mềm', 'phẩm', 'phẩm_chất', 'phẩm_chất_lượng', 'phẩn', 'phẫm', 'phận', 'phẳng', 'phẳng_lì', 'phẳng_phiu', 'phết', 'phố', 'phối', 'phối_đồ', 'phốt', 'phồng', 'phụ', 'phụ_kiện', 'phụ_nữ', 'phụ_phí', 'phụ_thuộc', 'phụ_đề', 'phục', 'phục_cụ', 'phục_vụ', 'phủ', 'phức', 'phức_tạp', 'pile', 'pin', 'piza', 'pk', 'pm', 'pointing', 'points', 'polo', 'poo', 'popper', 'post', 'pouting', 'pr', 'product', 'ps', 'puma', 'purple', 'pv', 'pải', 'pẩm', 'qa', 'qay', 'qc', 'qcao', 'qr', 'qt', 'qua', 'qua_loa', 'qua_mặt', 'qua_xá', 'quai', 'quai_k', 'quai_xanh', 'quality', 'quan', 'quan_trọng', 'quan_tâm', 'quang', 'quang_cáo', 'quanh', 'quat', 'quay', 'que', 'quen', 'quen_biết', 'quy', 'quy_trình', 'quy_tín', 'quy_định', 'quy_định_chuẩn', 'quy_đổi', 'quyết', 'quyết_tâm', 'quyết_định', 'quyển', 'quà', 'quài', 'quàn', 'quá', 'quá_bán', 'quá_bộ', 'quá_bữa', 'quá_chừng', 'quá_cỡ', 'quá_giản', 'quá_khổ', 'quá_sức', 'quá_thể', 'quá_trình', 'quá_tải', 'quá_xá', 'quá_đáng', 'quá_đáng_giá', 'quá_độ', 'quá_ư', 'quáa', 'quáko', 'quámặc', 'quán', 'quánên', 'quát', 'quân', 'quân_đội', 'quãng', 'qué', 'quét', 'quê', 'quên', 'quý', 'quý_trọng', 'quý_vị', 'quăn', 'quăng', 'quạt', 'quả', 'quả_thật', 'quả_thực', 'quả_đất', 'quản', 'quản_cáo', 'quản_lý', 'quản_vời', 'quảng', 'quảng_bá', 'quảng_châu', 'quảng_cáo', 'quảng_gắn', 'quấn', 'quất', 'quần', 'quần_bò', 'quần_dài', 'quần_dẫm', 'quần_jean', 'quần_k', 'quần_lót', 'quần_nam', 'quần_thun', 'quần_thần', 'quần_thế', 'quần_thể_dục', 'quần_y', 'quần_áo', 'quần_âu', 'quần_đùi', 'quẹo', 'quẹt', 'quế', 'quốc', 'quốc_phòng', 'quốc_tế', 'qá', 'qúa', 'qả', 'qần', 'ra', 'ra_bộ', 'ra_gì', 'ra_mặt', 'ra_tay', 'ra_vậy', 'ra_điều_chỉnh', 'rach', 'ram', 'random', 'rang', 'rao', 'rat', 'rat_ung', 'rata', 'rate', 'rau', 're', 'real', 'red', 'relieved', 'remote', 'ren', 'rep', 'reply', 'review', 'revolving', 'ribbon', 'right', 'rinh', 'riêng', 'ro', 'robot', 'roi', 'rolling', 'rong', 'rong_ok', 'rose', 'rua', 'rui', 'rung', 'ruốc', 'ruột', 'ràng', 'rác', 'rách', 'rách_nát', 'rách_vậy', 'rán', 'ráng', 'ránh', 'ráp', 'rát', 'rât', 'rè', 'rêu', 'rít', 'ròi', 'rôi', 'rông', 'rõ', 'rõ_ràng', 'rùi', 'rúc', 'rúm', 'rún', 'rút', 'răng', 'rũ', 'rơi', 'rơi_vãi', 'rước', 'rưỡi', 'rạch', 'rạn', 'rảnh', 'rấ', 'rất', 'rấtnhanh', 'rấtốt', 'rắc', 'rắc_rối', 'rằng', 'rẹp', 'rẻ', 'rẻ_tiền', 'rẻ_vậy', 'rẻsẽ', 'rẽ', 'rỉ', 'rối', 'rốn', 'rốt', 'rốt_cuộc', 'rồi', 'rồng', 'rộg', 'rộng', 'rộng_lượng', 'rộng_rãi', 'rộngdáng', 'rớt', 'rời', 'rởm', 'rụng', 'rụng_rời', 'rủ', 'rửa', 's_vậy', 'sac', 'sad', 'sag', 'sai', 'sai_lầm', 'sai_lệch', 'sai_phạm', 'sai_sót', 'sai_số', 'sale', 'sam', 'san', 'san_hô', 'sandal', 'sang', 'sang_năm', 'sang_trọng', 'sao', 'sao_la', 'saomình', 'sau', 'sau_cùng', 'sau_này', 'savoring', 'sbe', 'schön', 'screaming', 'sd', 'se', 'se_se', 'se_ung', 'seal', 'see', 'sehr', 'seler', 'sen', 'serum', 'service', 'set', 'sexy', 'sf', 'sg', 'sh', 'shape', 'ship', 'shiper', 'shirt', 'shit', 'sho', 'shop', 'shop_nhe', 'shop_vậy', 'shope', 'shoplàm', 'shopmãi', 'shops', 'shopsẽ', 'shopđóng', 'short', 'si', 'sice', 'side', 'sign', 'sim', 'sinh', 'sinh_nhật', 'sinh_viên', 'sip', 'sire', 'siu', 'size', 'sizetuy', 'siêu', 'siêu_thanh_lịch', 'siêu_thị', 'siêu_tốc', 'siết', 'skin', 'sky', 'sleepy', 'slightly', 'slime', 'smiling', 'smirking', 'so', 'so_le', 'so_sánh', 'soc', 'sohp', 'soi', 'son', 'son_son', 'son_vậy', 'song', 'song_song', 'sop', 'sory', 'soạn', 'sp', 'sp_binh', 'sparkles', 'sparkling', 'sped', 'spham', 'squinting', 'sr', 'star', 'steam', 'stone', 'store', 'struck', 'style', 'su', 'sua', 'suit', 'sung_sướng', 'sunglasses', 'super', 'suport', 'suy', 'suy_nghĩ', 'suy_xét_lại', 'suông', 'suýt', 'suất', 'suốt', 'sv', 'swatch', 'sweat', 'sx', 'symbol', 'symbols', 'sz', 'sze', 'szie', 'sài', 'sài_chất', 'sài_dc', 'sài_gòn', 'sài_son', 'sàn', 'sàng', 'sách', 'sách_vở', 'sáng', 'sáng_mai', 'sáng_suốt', 'sánh', 'sáo', 'sáp', 'sát', 'sát_nhân', 'sát_nách', 'sát_nách_k', 'sâu', 'sâu_rộng', 'sét', 'sò', 'sóc', 'sóng', 'sóng_sánh', 'sót', 'sùi', 'súc', 'sút', 'săn', 'sơ', 'sơ_hở', 'sơ_mi', 'sơ_sinh', 'sơ_suất', 'sơ_sài', 'sơ_sài_chất', 'sơmi', 'sơn', 'sước', 'sướng', 'sướt', 'sườn', 'sạc', 'sạch', 'sạch_bóng', 'sạch_sẽ', 'sả', 'sảm', 'sản', 'sản_phẩm', 'sản_phẩm_chất', 'sản_phẩm_chất_liệu', 'sản_phẩm_chất_lượng', 'sản_phẩm_giá', 'sản_xuất', 'sảo', 'sảy', 'sấp', 'sấp_mặt', 'sấu', 'sần', 'sẫm', 'sậm', 'sắc', 'sắc_sảo', 'sắm', 'sắp', 'sắt', 'sẵn', 'sẵn_lòng', 'sẵn_sàng', 'sặc', 'sặc_mùi', 'sẹo', 'sẻ', 'sẻ_ung', 'sẽ', 'sến', 'sỉ', 'sịn', 'sịp', 'sọc', 'sọt', 'số', 'số_lượng', 'số_đo', 'sốc', 'sống', 'sống_lưng', 'sống_nhăn', 'sốt', 'sốt_ruột', 'sổ', 'sột', 'sột_soạt', 'sớm', 'sờ', 'sờn', 'sở_hữu', 'sở_thích', 'sợ', 'sợi', 'sục', 'sủa', 'sức', 'sức_khoẻ', 'sứt', 'sử', 'sử_dụng', 'sửa', 'sửa_đổi', 'sữa', 'sự', 'sự_cố', 'sự_dụng', 'sự_thật', 't_k', 't_khen', 't_t', 't_thí', 'ta', 'tag', 'tai', 'tai_nghe', 'tam', 'tam_dc', 'tam_duoc', 'tam_gia', 'tam_k', 'tan', 'tan_nát', 'tang', 'tanh', 'tao', 'tat', 'tay', 'tay_cầm', 'tay_phải', 'tay_trong', 'tay_trắng', 'tay_áo', 'tay_áo_dài', 'tay_ấn', 'te', 'te_tua', 'tears', 'tem', 'teo', 'test', 'tg', 'tgian', 'th', 'tha', 'tha_hồ', 'tha_thiết', 'thai', 'tham', 'tham_gia', 'tham_khảo', 'than', 'than_phiền', 'thang', 'thanh', 'thanh_lí', 'thanh_lý', 'thanh_lịch', 'thanh_niên', 'thanh_toán', 'thank', 'thankiu', 'thanks', 'thao', 'thao_tác', 'that', 'thay', 'thay_thế', 'thay_vì', 'thay_đổi', 'the', 'the_bo', 'them', 'theo', 'theo_dõi', 'thg', 'thgian', 'thi', 'thi_ca', 'thi_thoảng', 'thi_đua', 'thic', 'thich', 'thieu', 'thik', 'thinking', 'this', 'thix', 'thiéu', 'thiên', 'thiên_hạ', 'thiên_nhiên', 'thiên_thanh', 'thiết_bị', 'thiết_kế', 'thiết_nghĩ', 'thiếu', 'thiếu_phụ_kiện', 'thiếu_đồ', 'thiện', 'thiện_chí', 'thiện_cảm', 'thiện_cảm_chút', 'thiện_cảm_w', 'thiện_ý', 'thiện_ý_muốn', 'thiệp', 'thiệt', 'thjk', 'thk', 'thks', 'thoai', 'thoang', 'thoang_thoảng', 'thoi', 'thom', 'thon', 'thon_thả', 'thoái', 'thoáng', 'thoát', 'thoại', 'thoả', 'thoả_thuận', 'thoả_thích', 'thoả_đáng', 'thoải', 'thoải_giản', 'thoải_mái', 'thoảng', 'ths', 'thu', 'thu_hóa_đơn', 'thu_xếp', 'thua', 'thui', 'thumbs', 'thun', 'thuoc', 'thuong', 'thuyền', 'thuơng', 'thuận_lợi', 'thuận_tiện', 'thuốc', 'thuốc_nhuộm', 'thuốc_tẩy', 'thuộc', 'thà', 'thàng', 'thành', 'thành_công', 'thành_phần', 'thành_phố', 'thành_ra', 'thành_thật', 'thái', 'thái_quá', 'thái_độ', 'tháng', 'tháo', 'thâm', 'thân', 'thân_thiện', 'thât', 'thèm', 'thép', 'thê', 'thêm', 'thênh', 'thênh_thang', 'thêu', 'thì', 'thì_chớ', 'thì_ra', 'thìa', 'thình', 'thíc', 'thích', 'thích_hợp', 'thích_hợp_thời_tiết', 'thích_đáng', 'thím', 'thít', 'thíu', 'thòng', 'thòng_xuống', 'thô', 'thô_lỗ', 'thô_ráp', 'thô_sơ', 'thôg', 'thôi', 'thôi_thì', 'thôi_vậy', 'thôisize', 'thông', 'thông_báo', 'thông_cảm', 'thông_cảm_đc', 'thông_minh', 'thông_qua', 'thông_số', 'thông_thường', 'thông_tin', 'thù', 'thùng', 'thùng_thình', 'thú', 'thú_vị', 'thăm', 'thơm', 'thư', 'thư_giãn', 'thư_tay', 'thưa', 'thưa_gửi', 'thương', 'thương_hiệu', 'thước', 'thường', 'thường_khi', 'thường_ngày', 'thường_xuyên', 'thưởng', 'thưởng_thức', 'thượng_lượng', 'thượng_đế', 'thả', 'thảm', 'thảm_hoạ', 'thấm', 'thấp', 'thấp_kém', 'thấpsẽ', 'thất', 'thất_lạc', 'thất_thường', 'thất_vọng', 'thất_đức', 'thấu', 'thấy', 'thần', 'thần_kì', 'thần_kỳ', 'thần_tốc', 'thần_đồng', 'thẩm', 'thẩm_mĩ', 'thẩm_mỹ', 'thẩm_thấu', 'thẩn', 'thậm_chí', 'thậm_tệ', 'thận', 'thận_trọng', 'thậngiao', 'thật', 'thật_ra', 'thật_sự', 'thật_thà', 'thắc', 'thắc_mắc', 'thắt', 'thắt_lưng', 'thắt_nút', 'thằng', 'thẳng', 'thẻ', 'thẻ_nhớ', 'thế', 'thế_cơ', 'thế_là', 'thế_mà', 'thế_nào', 'thế_thì', 'thế_đồ', 'thề', 'thể', 'thể_dục', 'thể_hiện', 'thể_nghiệm', 'thể_nào', 'thể_thao', 'thị', 'thị_trường', 'thịt', 'thỏ', 'thỏa', 'thỏa_lòng', 'thỏa_mái', 'thỏa_mãn', 'thỏa_đáng', 'thỏa_đồ', 'thỏai', 'thỏi', 'thối', 'thống_nhất', 'thờ', 'thời', 'thời_buổi', 'thời_gian', 'thời_gian_hàng', 'thời_hạn', 'thời_kỳ', 'thời_lượng', 'thời_thượng', 'thời_tiết', 'thời_trang', 'thở', 'thụng', 'thủ', 'thủ_tục', 'thủng', 'thứ', 'thứ_tự', 'thức', 'thức_ăn', 'thừa', 'thử', 'thực', 'thực_chất', 'thực_hiện', 'thực_phẩm', 'thực_ra', 'thực_sự', 'thực_tế', 'thỳ', 'ti', 'ti_di', 'ti_tỉ', 'tia', 'tiec', 'tien', 'tiep', 'tim', 'time', 'tin', 'tin_cậy', 'tin_dùng', 'tin_tưởng', 'tinh', 'tinh_chất_lượng', 'tinh_dầu', 'tinh_ma_chất', 'tinh_thần', 'tinh_tế', 'tip', 'tired', 'tivi', 'tiên', 'tiên_nữ', 'tiêp', 'tiêu', 'tiêu_chuẩn', 'tiêu_chí', 'tiêu_cực', 'tiêu_dùng', 'tiêu_hoá', 'tiêu_xài', 'tiêu_đề', 'tiêu_đề_nghị', 'tiếc', 'tiếng', 'tiếp', 'tiếp_nhận', 'tiếp_theo', 'tiếp_tục', 'tiếp_xúc', 'tiết', 'tiết_giảm', 'tiết_kiệm', 'tiền', 'tiền_sử_dụng', 'tiền_túi', 'tiền_vận_chuyển', 'tiền_đường', 'tiền_đồ', 'tiềnchất', 'tiềncòn', 'tiềncó', 'tiềngiao', 'tiềnhàng', 'tiềnhưng', 'tiềnrất', 'tiềnshop', 'tiềnsản', 'tiềnsẽ', 'tiềnthời', 'tiềntuy', 'tiềnvải', 'tiểu', 'tiểu_học', 'tiểu_long', 'tiểu_thư', 'tiệm', 'tiện', 'tiện_dụng', 'tiện_lợi', 'tiện_thể', 'tiện_ích', 'tk', 'tks', 'tl', 'tl_hủy', 'tlời', 'tn', 'to', 'to_con', 'to_nhỏ', 'to_đùng', 'toan', 'toc', 'toi', 'tone', 'tongue', 'tot', 'toàn', 'toàn_bộ', 'toàn_thân', 'toàn_tập', 'toát', 'toẹt', 'tp', 'tphcm', 'tq', 'tr', 'tra', 'trai', 'trang', 'trang_bị', 'trang_chủ', 'trang_trí', 'trang_điểm', 'tranh', 'tranh_cãi', 'tranh_thủ', 'trao', 'trao_đổi', 'trc', 'tre', 'tren', 'treo', 'trg', 'tri', 'tripod', 'triển', 'triệu', 'trk', 'trl', 'tro', 'trog', 'troi', 'tron', 'trong', 'trong_sáng', 'trung', 'trung_bình', 'trung_gian', 'trung_niên', 'trung_quốc', 'trung_thu', 'trung_thành', 'trung_thực', 'truoc', 'truyện', 'truất', 'truớc', 'trà', 'trà_trộn', 'tràn', 'trách', 'trách_móc', 'trách_mắng', 'trách_nhiệm', 'trái', 'trái_cây', 'trái_tim', 'tráng', 'tránh', 'trâu', 'trên', 'trì', 'trình_duyệt', 'tròn', 'tróc', 'trôi', 'trôi_nổi', 'trông', 'trông_mong', 'trùm', 'trùng', 'trăm', 'trăng', 'trăng_trắng', 'trơ', 'trơ_trụi', 'trơn', 'trưa', 'trước', 'trước_hết', 'trước_k', 'trước_kia', 'trước_mắt', 'trước_sau', 'trường', 'trường_hợp', 'trượt', 'trại', 'trạng_thái', 'trả', 'trả_giá', 'trả_lời', 'trải', 'trất', 'trầm', 'trần', 'trầy', 'trầy_xước', 'trật', 'trắng', 'trắng_bóc', 'trắng_ngà', 'trắng_ngà_ngà', 'trắng_tay', 'trắng_tay_áo', 'trắng_tinh', 'trắng_tinh_ma', 'trắng_toát', 'trắng_vậy', 'trắng_đen', 'trẻ', 'trẻ_con', 'trẻ_em', 'trẻ_trung', 'trể', 'trễ', 'trị', 'trị_giá', 'trọg', 'trọng', 'trọng_lượng', 'trọng_tâm', 'trốn', 'trốn_tránh', 'trồng', 'trộn', 'trời', 'trời_đất', 'trời_ơi', 'trở', 'trở_lên', 'trở_lại', 'trở_mặc', 'trở_nên', 'trở_tay', 'trở_thành', 'trợ', 'trợ_giá', 'trục', 'trục_trặc', 'trụi', 'trừ', 'trừ_hao', 'trữ', 'trực_tiếp', 'trực_tuyến', 'tu', 'tua', 'tua_rua', 'tuc', 'tuc_ung', 'tui', 'tung', 'tung_tăng', 'tuoi', 'tuong', 'tuy', 'tuy_nhiên', 'tuy_rằng', 'tuy_vậy', 'tuyet', 'tuyến', 'tuyệt', 'tuyệt_giao', 'tuyệt_giãn', 'tuyệt_tác', 'tuyệt_vời', 'tuyệt_vời_chất', 'tuyệt_vời_ung', 'tuyệt_đối', 'tuyệt_đồ', 'tuần', 'tuần_lễ', 'tuổi', 'tuột', 'tuởng', 'tuỳ', 'tuỳ_tiện', 'tuỳ_ý', 'tv', 'tvan', 'two', 'ty', 'tà', 'tà_ngắn', 'tà_thấp', 'tà_áo', 'tà_đề', 'tài_khoản', 'tài_liệu', 'tàm_tạm', 'tào', 'tào_lao', 'tàu', 'tàu_điện', 'tác', 'tác_dụng', 'tác_phong', 'tác_động', 'tách', 'tán', 'táo', 'tâm', 'tâm_lí', 'tâm_lý', 'tâm_tư_vấn', 'tân', 'tây', 'tã', 'tè', 'tèo', 'tét', 'tê', 'tê_tê', 'tên', 'tên_lửa', 'tì', 'tì_vết', 'tìh', 'tìm', 'tìm_hiểu', 'tìm_kiếm', 'tình', 'tình_cờ', 'tình_hình', 'tình_trạng', 'tình_yêu_cầu', 'tìnhgiao', 'tìnhmình', 'tìnhsẽ', 'tí', 'tí_hon', 'tí_ti', 'tí_tẹo', 'tí_xíu', 'tích', 'tích_cực', 'tích_sự', 'tím', 'tím_than', 'tín', 'tín_hiệu', 'tín_đồ', 'tính', 'tính_chất', 'tính_năng', 'típ', 'tóc', 'tóm', 'tóm_lai', 'tóm_lại', 'tô', 'tôi', 'tôm', 'tôn', 'tôn_dáng', 'tôn_trọng', 'tông', 'tông_đơ', 'tôt', 'tùm', 'tùm_lum', 'tùy', 'tùy_chỉnh', 'tùy_thik', 'tùy_ý', 'túi', 'túi_bóng', 'túi_tiền', 'túi_vậy', 'túi_xách', 'túi_xách_y', 'túm', 'tý', 'tăm', 'tăm_hơi', 'tăm_hơi_đâu', 'tăng', 'tăng_giá', 'tăng_âm_lượng', 'tơi', 'tơi_tả', 'tư', 'tư_thế', 'tư_vấn', 'tưa', 'tươi', 'tươi_sáng', 'tương', 'tương_lai', 'tương_tác', 'tương_tự', 'tương_xứng', 'tương_đương', 'tương_đối', 'tương_đồng', 'tương_ứng', 'tường', 'tưởng', 'tưởng_tượng', 'tượng', 'tại', 'tại_chỗ', 'tại_sao', 'tạm', 'tạm_biệt', 'tạm_thời', 'tạm_thời_gian', 'tạm_vậy', 'tạng', 'tạo', 'tạo_hình', 'tạp', 'tả', 'tả_tơi', 'tải', 'tấm', 'tất', 'tất_cả', 'tất_nam', 'tất_nhiên', 'tất_yếu', 'tất_đẹp', 'tầm', 'tầm_tầm', 'tầm_vậy', 'tần', 'tần_ngần', 'tần_tật', 'tẩy', 'tẩy_chay', 'tẩy_rửa', 'tẩy_trang', 'tẩy_trang_bị', 'tậm', 'tậm_tịt', 'tận', 'tận_dụng', 'tận_mắt', 'tận_tay', 'tận_tâm', 'tận_tâm_tư_vấn', 'tận_tình', 'tận_tình_cảm_ơn', 'tận_tình_yêu', 'tập', 'tập_luyện', 'tập_thể_dục', 'tật', 'tậu', 'tắc', 'tắm', 'tắm_gội', 'tắt', 'tặg', 'tặng', 'tặng_phẩm', 'tẹo', 'tế', 'tế_nhị', 'tết', 'tệ', 'tệ_hại', 'tệchữ', 'tỉ', 'tỉ_lệ', 'tỉ_lệ_thuận', 'tỉ_mỉ', 'tỉnh', 'tỉnh_lẻ', 'tỉnh_thành', 'tịt_ngòi', 'tỏ', 'tỏ_tình', 'tố', 'tố_cáo', 'tốc', 'tốc_độ', 'tối', 'tốn', 'tốt', 'tốt_bụng', 'tốt_dụng', 'tốt_lành', 'tốt_nghiệp', 'tốt_tính', 'tốt_đẹp', 'tốtchất', 'tốtgiao', 'tốtgiá', 'tốthanks', 'tốthời', 'tốtmình', 'tốtnhưng', 'tốtrất', 'tốtsẽ', 'tốtuy', 'tốtáo', 'tốtđóng', 'tồi', 'tồi_tệ', 'tồn', 'tồn_kho', 'tồn_tại', 'tổ', 'tổ_gián', 'tổng', 'tổng_cái', 'tổng_cộng', 'tổng_mới', 'tổng_quan', 'tổng_số_lượng', 'tổng_thanh_toán', 'tổng_thể', 'tổng_tiền', 'tổng_đơn', 'tội', 'tội_nghiệp', 'tớ', 'tới', 'tờ', 'tờ_rơi', 'tục', 'tụt', 'tủ', 'tủ_lạnh', 'tủ_đồ', 'tứ', 'tứ_tung', 'tức', 'tức_là', 'tức_thời', 'từ', 'từ_bỏ', 'từ_chối', 'từ_thiện', 'từ_đường', 'từa', 'từng', 'tử', 'tử_tế', 'tự', 'tự_nhiên', 'tự_ti', 'tự_tin', 'tự_vấn', 'tự_ý', 'tự_động', 'tựu', 'ug', 'ui', 'ulzang', 'un', 'unamused', 'ung', 'unghi', 'uni', 'uniqlo', 'unisex', 'up', 'update', 'upside', 'usb', 'uy', 'uy_tín', 'uy_tín_chỉ', 'uy_tín_chủ', 'uốn', 'uống', 'uổng', 'uổng_phí', 'va', 'va_chạm', 'va_đập', 'vag', 'vai', 'value', 'van', 'van_ung', 'vang', 'vans', 'vao', 'vay', 'vc', 'vch', 'vcl', 'vd', 'vde', 've', 've_ao', 've_be', 've_chai', 've_da', 've_kem', 've_luon', 've_luong', 've_ma', 've_mac', 've_món', 've_nhiệt_tình', 've_sai', 've_san', 've_shop', 've_sp', 've_spham', 've_toi', 've_vu', 've_đẹp', 'very', 'vest', 'vi', 'vi_vu', 'victory', 'video', 'viec', 'vien', 'viet', 'vin', 'viên', 'viết', 'viết_tay', 'viền', 'việc', 'việt', 'việt_nam', 'vl', 'vn', 'vnpost', 'vnxk', 'vo', 'voan', 'voan_vậy', 'voi', 'vong', 'vote', 'voucher', 'vs', 'vu', 'vua', 'vui', 'vui_lòng', 'vui_tinh', 'vui_tính', 'vui_tính_giao', 'vui_vẻ', 'vuông', 'vuông_góc', 'vuông_vức', 'vuốt', 'và', 'vàg', 'vài', 'vàng', 'vàng_trắng', 'vàng_đen', 'vành', 'vào', 'vào_khoảng', 'vá', 'vát', 'váy', 'váy_phủ', 'váy_xoè', 'váy_áo', 'vân', 'vây', 'vãi', 'vãn', 'vé', 'vê', 'vênh', 'vì', 'vì_sao', 'vì_thế', 'vì_vậy', 'vì_vậy_mà', 'ví', 'ví_dụ', 'ví_như', 'vít', 'vò', 'vòi', 'vòng', 'vòng_quanh', 'vòng_tay', 'vòng_vo', 'vón', 'vô', 'vô_cùng', 'vô_cảm_giác', 'vô_cảm_ứng', 'vô_duyên', 'vô_dụng', 'vô_kể', 'vô_lý', 'vô_sản_phẩm', 'vô_thanh', 'vô_tình', 'vô_tư', 'vô_địch', 'vùng', 'văn', 'văn_hoá', 'văn_hóa', 'văn_phòng', 'vơi', 'vượt', 'vạch', 'vại', 'vạt', 'vạy', 'vả', 'vả_lại', 'vải', 'vải_mát', 'vấn', 'vấn_đề', 'vất', 'vầy', 'vẩn', 'vẫn', 'vận', 'vận_chuyển', 'vận_chuyển_giao', 'vận_chuyển_tự_nhiên', 'vận_động', 'vật', 'vật_dụng', 'vậy', 'vậy_mà', 'vậy_vậy', 'vậymua', 'vắt', 'vắt_sổ', 'vặn', 'vẹn', 'vẻ', 'vẽ', 'vết', 'về', 'vệ', 'vệ_sinh', 'vệt', 'vị', 'vị_trí', 'vọg', 'vọng', 'vỏ', 'vốn', 'vội', 'vớ', 'vớ_vẩn', 'với', 'vờ', 'vời', 'vờibạn', 'vờichất', 'vờichủ', 'vờicó', 'vờigiao', 'vờigiá', 'vờihàng', 'vờim', 'vờiminh', 'vờimua', 'vờimàu', 'vờinhưng', 'vờirất', 'vờishop', 'vờisp', 'vờisản', 'vờisẽ', 'vờithanks', 'vờithời', 'vờituy', 'vờiváy', 'vờivải', 'vờiz', 'vờiáo', 'vờiđóng', 'vờiđẹp', 'vở', 'vỡ', 'vợ', 'vợ_chồng', 'vợt', 'vụ', 'vụn', 'vức', 'vứt', 'vừa', 'vừa_lòng', 'vừa_miệng', 'vừa_mắt', 'vừa_mới', 'vừa_phải', 'vừa_qua', 'vừa_rồi', 'vừa_vặn', 'vừa_ý', 'vừa_ý_muốn', 'vừashop', 'vực', 'wa', 'wamac', 'waving', 'weary', 'web', 'wel', 'wifi', 'wil', 'winking', 'with', 'without', 'woman', 'worried', 'wrapped', 'wá', 'xa', 'xa_vời', 'xai', 'xaidep', 'xam', 'xanh', 'xanh_lét', 'xau', 'xay', 'xe', 'xe_hơi', 'xe_máy', 'xe_đạp', 'xem', 'xem_lại', 'xem_thường', 'xem_xét', 'xem_xét_lại', 'xi', 'xiaomi', 'xin', 'xin_lỗi', 'xinh', 'xinh_xinh', 'xinh_xinh_xinh', 'xinh_xắn', 'xinh_đẹp', 'xink', 'xiu', 'xiền', 'xl', 'xl_vậy', 'xo', 'xog', 'xong', 'xong_chuyện', 'xoq', 'xoè', 'xoăn', 'xoắn', 'xoẹt', 'xs', 'xu', 'xuat', 'xung', 'xung_dang', 'xung_gia', 'xung_quanh', 'xung_đơn', 'xuyên', 'xuông', 'xuất', 'xuất_hiện', 'xuất_khẩu', 'xuất_phát_điểm', 'xuất_sắc', 'xuất_xứ', 'xuống', 'xà', 'xà_bông', 'xà_phòng', 'xài', 'xài_vầy', 'xàm', 'xá', 'xác', 'xác_nhận', 'xác_thực', 'xác_định', 'xách', 'xám', 'xám_vậy', 'xám_xịt', 'xâu', 'xã', 'xé', 'xét', 'xênh', 'xì', 'xìu', 'xí', 'xích', 'xíu', 'xò', 'xòe', 'xó', 'xóa', 'xóa_hình', 'xóa_hạn', 'xóa_trả', 'xóa_đơn', 'xóm', 'xót', 'xót_ruột', 'xô', 'xù', 'xù_xì', 'xúc', 'xúc_động', 'xĩu', 'xơ', 'xơi', 'xơi_xơi', 'xương', 'xương_rồng', 'xước', 'xướt', 'xưởng', 'xả', 'xảy', 'xấu', 'xấu_bụng', 'xấu_hổ', 'xấu_xí', 'xắc', 'xắn', 'xẹp', 'xẹp_lép', 'xẻ', 'xếp', 'xếp_xó', 'xỉ', 'xỉn', 'xỉu', 'xịn', 'xịt', 'xỏ', 'xốp', 'xổ', 'xức', 'xứng', 'xứng_đáng', 'xứng_đáng_giá', 'xứt', 'xử', 'xử_dụng', 'xử_lí', 'xử_lý', 'y_hình', 'y_hệt', 'y_như', 'y_như_vậy', 'y_trang', 'y_vậy', 'yc', 'yellow', 'yen', 'yeu', 'yk', 'you', 'youtube', 'yên', 'yên_tâm', 'yên_tâm_giao', 'yêu', 'yêu_cầu', 'yêu_cầu_chúc', 'yêu_cầu_là', 'yêu_thương', 'yêu_đồ', 'yếm', 'yến', 'yến_mạch', 'yếu', 'yếu_kém', 'yếu_tố', 'yếu_xìu', 'za', 'zai', 'zany', 'zay', 'zin', 'zip', 'zui', 'zậy', 'zễ', 'á_vậy', 'ái', 'ák', 'ánh', 'ánh_kim', 'ánh_kim_tuyến', 'ánh_sáng', 'áo', 'áo_bông', 'áo_cánh', 'áo_dài', 'áo_gió', 'áo_khoác', 'áo_khoác_áo_phao', 'áo_kén', 'áo_lót', 'áo_mưa', 'áo_mưa_vậy', 'áo_phao', 'áo_phông', 'áo_quần', 'áo_rộng', 'áo_rộng_rãi', 'áo_thụng', 'áo_đầm', 'áo_ấm', 'áođặt', 'áp', 'áp_dụng', 'âm', 'âm_lượng', 'âm_nhạc', 'âm_thanh', 'âm_âm_âm', 'ân', 'ân_cần', 'âo', 'âu', 'éo', 'ép', 'êm', 'êm_ái', 'êm_đẹp', 'ích', 'ít', 'ít_nhất', 'ít_nữa', 'ít_ra', 'óc', 'ô_kê', 'ôi', 'ôi_thôi', 'ôk', 'ôkê', 'ôm', 'ôm_chân', 'ôm_chân_không', 'ôm_chân_đế', 'ông', 'ông_bà', 'ông_già', 'ông_xã', 'úi', 'ý_kiến', 'ý_muốn', 'ý_nghĩa', 'ý_thức', 'ý_định', 'ýcho', 'ýhihichất', 'ýshop', 'ăn', 'ăn_bớt', 'ăn_chay', 'ăn_chặn', 'ăn_cướp', 'ăn_gian', 'ăn_không', 'ăn_mặc', 'ăn_nói', 'ăn_nói_chung', 'ăn_tiền', 'ăn_uống', 'ăn_đủ', 'ăn_đứt', 'ăn_ở', 'đa', 'đa_dạng', 'đa_năng', 'đa_phần', 'đa_số', 'đag', 'đai', 'đai_ốc', 'đam', 'đan', 'đang', 'đanh', 'đanh_đá', 'đat', 'đau', 'đau_lòng', 'đau_đầu', 'đay', 'đc', 'đc_gắn', 'đchất', 'đckiểu', 'đe', 'đe_bán', 'đem', 'đen', 'đen_k', 'đen_ngòm', 'đen_thui', 'đen_vậy', 'đenáo', 'đeo', 'đep', 'đepj', 'đg', 'đi', 'đi_lại', 'đi_nữa', 'đi_tiểu', 'đi_đôi', 'đi_đồng', 'đinh', 'điên', 'điêu', 'điều', 'điều_chỉnh', 'điều_kiện', 'điểm', 'điện', 'điện_báo', 'điện_k', 'điện_thoại', 'điện_tử', 'điện_tử_số', 'điệu', 'đk', 'đm', 'đo', 'đo_đạc', 'đoi', 'đong', 'đoạn', 'đoạnhưng', 'đt', 'đua', 'đung', 'đuoc', 'đuong', 'đuôi', 'đuọc', 'đuổi', 'đuợc', 'đx', 'đy', 'đà', 'đàn', 'đàn_hương', 'đàn_hồi', 'đàn_ông', 'đàng', 'đàng_hoàng', 'đành', 'đá', 'đág', 'đáh', 'đái', 'đáng', 'đáng_giá', 'đáng_kể', 'đáng_lý', 'đáng_lẽ', 'đáng_nhẽ', 'đáng_ra', 'đánh', 'đánh_dấu', 'đánh_giá', 'đánh_giá_cả', 'đánh_hơi', 'đánh_lừa', 'đánh_số', 'đáo', 'đáothời', 'đáp', 'đáp_ứng', 'đáy', 'đâu', 'đâu_đó', 'đâu_đấy', 'đây', 'đã', 'đè', 'đèn', 'đèn_vậy', 'đèn_xanh', 'đèn_đỏ', 'đéo', 'đêm', 'đêm_hôm', 'đên', 'đì', 'đình', 'đích', 'đích_thực', 'đính', 'đòi', 'đòi_hỏi', 'đó', 'đóg', 'đói', 'đóng', 'đóng_dấu', 'đóng_gói', 'đóng_góp', 'đóng_hộp', 'đóng_thùng', 'đô', 'đôi', 'đôi_chút', 'đôi_khi', 'đông', 'đùagiao', 'đùi', 'đùng', 'đúc', 'đúg', 'đúng', 'đúng_mực', 'đúng_ra', 'đăng', 'đăng_kí', 'đăng_ký', 'đăt', 'đĩa', 'đũa', 'đũi', 'đũng', 'đơ', 'đơi', 'đơn', 'đơn_chất_lượng', 'đơn_giản', 'đơn_vị', 'đơt', 'đưa', 'đươc', 'đương', 'đương_nhiên', 'đườg', 'đường', 'đường_dây', 'đường_đường', 'được', 'đượchơi', 'đượcso', 'đượctay', 'đượcvải', 'đượcáo', 'đạc', 'đại', 'đại_khái', 'đại_lý', 'đạp', 'đạt', 'đảm_bảo', 'đảm_bảo_an_toàn', 'đảo', 'đất', 'đấy', 'đầm', 'đầm_vậy', 'đầu', 'đầu_ghi', 'đầu_gối', 'đầu_tiên', 'đầu_đọc', 'đầy', 'đầy_đủ', 'đẩy', 'đậm', 'đậm_hóa', 'đậm_đà', 'đậm_đặc', 'đập', 'đậu', 'đậu_xanh', 'đắc', 'đắn', 'đắn_đo', 'đắng', 'đắp', 'đắt', 'đằng', 'đặc', 'đặc_biệt', 'đặt', 'đặt_chân', 'đặt_cọc', 'đặt_hàng', 'đặt_điều', 'đặtcảm', 'đẹp', 'đẹp_chất', 'đẹp_giai', 'đẹp_lòng', 'đẹp_mắt', 'đẹp_mặt', 'đẹp_trai', 'đẹp_vậy', 'đẹp_đôi', 'đẹpcho', 'đẹpchất', 'đẹpda', 'đẹpdày', 'đẹpform', 'đẹpgiao', 'đẹpgiá', 'đẹpgiống', 'đẹphơi', 'đẹpkhá', 'đẹpmàu', 'đẹpmình', 'đẹpmặc', 'đẹpmỗi', 'đẹpnhư', 'đẹpnhưng', 'đẹpnói', 'đẹprất', 'đẹprẻ', 'đẹpshop', 'đẹpvải', 'đẹpy', 'đẹpáo', 'đẹpđáng', 'đẹpđúng', 'đẹpưng', 'đẻ', 'đế', 'đếm', 'đến', 'đến_nơi', 'đến_nỗi', 'đề', 'đề_can', 'đề_nghị', 'đề_xuất', 'đền', 'đền_bù', 'đều', 'để', 'để_dành', 'để_ý', 'để_ý_tưởng', 'đểu', 'đễ', 'đệm', 'đệp', 'đỉnh', 'địa_chất_lượng', 'địa_chỉ', 'địa_ngục', 'địa_phương', 'địa_điểm', 'định', 'định_hình', 'định_vị', 'địt', 'địt_mẹ', 'địu', 'đọc', 'đỏ', 'đỏ_chói', 'đỏ_đen', 'đỏi', 'đối', 'đối_chứng', 'đối_tượng', 'đối_với', 'đốm', 'đống', 'đồ', 'đồ_bộ', 'đồ_chơi', 'đồ_dùng', 'đồ_đạc', 'đồng', 'đồng_bạc', 'đồng_chất_lượng', 'đồng_hành', 'đồng_hồ', 'đồng_nai', 'đồng_nghiệp', 'đồng_nghĩa', 'đồng_nhất', 'đồng_phục', 'đồng_thanh', 'đồng_tiền', 'đồng_tiền_đường', 'đồng_ý', 'đồng_đều', 'đổ', 'đổ_bệnh', 'đổ_thừa', 'đổi', 'đỗ', 'độ', 'độc', 'độc_hại', 'đội', 'độn', 'động', 'động_cơ', 'động_lực', 'động_lực_học', 'động_viên', 'đời', 'đời_mới', 'đỡ', 'đỡ_vậy', 'đợi', 'đợt', 'đục', 'đụng', 'đủ', 'đứa', 'đức', 'đứng', 'đứng_tuổi', 'đứt', 'đừg', 'đừng', 'đựng', 'ũng', 'ơi', 'ơi_là', 'ơn', 'ưa', 'ưa_nhìn', 'ưa_thích', 'ưg', 'ưng', 'ưng_chất', 'ưng_ho', 'ưng_họa', 'ưng_y', 'ưng_ý', 'ưng_ý_đồ', 'ưu', 'ưu_tiên', 'ưu_ái', 'ưu_điểm', 'ưu_đãi', 'ươm', 'ước', 'ước_chừng', 'ước_lượng', 'ướt', 'ạa', 'ạgiao', 'ạh', 'ạk', 'ạlần', 'ạsẽ', 'ảnh', 'ảnh_chất', 'ảnh_hưởng', 'ảnh_vi', 'ảnhchất', 'ảo', 'ấm', 'ấm_áp', 'ấn', 'ấn_tượng', 'ấy', 'ẩm', 'ẩm_ướt', 'ẩu', 'ẩu_tả', 'ẹp', 'ọp_ẹp', 'ốc', 'ốm', 'ống', 'ống_chân', 'ống_chân_không', 'ống_kính', 'ống_quần', 'ốp', 'ồn', 'ổn', 'ổn_thoả', 'ổn_định', 'ủg', 'ủi', 'ủng', 'ủng_hộ', 'ức', 'ức_chế', 'ứng', 'ứng_dụng']\n",
            "Kích thước của vector dựa trên biểu diễn TF-IDF:  (10066, 5787)\n"
          ]
        }
      ]
    },
    {
      "cell_type": "code",
      "source": [
        "X_train, X_test, y_train, y_test = train_test_split(X_data_tfidf, np.array(y_data_encoded), test_size=0.3, random_state=42)\n",
        "\n",
        "print(\"Hiển thị số lượng trong tập train và tập test\")\n",
        "print(X_train.shape)\n",
        "print(X_test.shape)\n",
        "# Số lượng train là 8052 mẫu, test là 2014 "
      ],
      "metadata": {
        "colab": {
          "base_uri": "https://localhost:8080/"
        },
        "id": "vRZ9HJYa4iIc",
        "outputId": "134942cb-0ae6-4eeb-84e7-be2262a7f8df"
      },
      "execution_count": null,
      "outputs": [
        {
          "output_type": "stream",
          "name": "stdout",
          "text": [
            "Hiển thị số lượng trong tập train và tập test\n",
            "(7046, 5787)\n",
            "(3020, 5787)\n"
          ]
        }
      ]
    },
    {
      "cell_type": "code",
      "metadata": {
        "colab": {
          "base_uri": "https://localhost:8080/"
        },
        "id": "J0ztYVJbyZih",
        "outputId": "33864145-6333-45c3-c475-9318ab62d6ce"
      },
      "source": [
        "from sklearn import svm\n",
        "\n",
        "classifier = svm.LinearSVC(multi_class=\"crammer_singer\", C = 0.1,  penalty='l2', random_state= 42, verbose=1)\n",
        "classifier.fit(X_train, y_train)"
      ],
      "execution_count": null,
      "outputs": [
        {
          "output_type": "stream",
          "name": "stdout",
          "text": [
            "[LibLinear]"
          ]
        },
        {
          "output_type": "execute_result",
          "data": {
            "text/plain": [
              "LinearSVC(C=0.1, multi_class='crammer_singer', random_state=42, verbose=1)"
            ]
          },
          "metadata": {},
          "execution_count": 12
        }
      ]
    },
    {
      "cell_type": "code",
      "metadata": {
        "colab": {
          "base_uri": "https://localhost:8080/"
        },
        "id": "e59jDdKRyZii",
        "outputId": "d79e0cc3-3fe5-40b1-9da7-c930816d51ef"
      },
      "source": [
        "predicted = classifier.predict(X_test)\n",
        "y_pred = []\n",
        "for y in predicted:\n",
        "    y_pred.append([int(y)])\n",
        "    \n",
        "print(\"Kết quả các độ đo trong mô hình SVM\")\n",
        "print(\"Accuracy: \",accuracy_score(y_test, y_pred))\n",
        "print(\"F1 - score: \",f1_score(y_test, y_pred, average=\"weighted\"))\n",
        "print(\"Precision: \",precision_score(y_test, y_pred, average=\"weighted\"))\n",
        "print(\"Recall: \",recall_score(y_test, y_pred, average=\"weighted\"))"
      ],
      "execution_count": null,
      "outputs": [
        {
          "output_type": "stream",
          "name": "stdout",
          "text": [
            "Kết quả các độ đo trong mô hình SVM\n",
            "Accuracy:  0.7605960264900662\n",
            "F1 - score:  0.7356284535421822\n",
            "Precision:  0.72614972396316\n",
            "Recall:  0.7605960264900662\n"
          ]
        }
      ]
    },
    {
      "cell_type": "code",
      "metadata": {
        "colab": {
          "base_uri": "https://localhost:8080/"
        },
        "id": "s6vsTKE3yZij",
        "outputId": "76bac3db-567b-4b11-c1f0-cbbc595f2475"
      },
      "source": [
        "print(classification_report(y_test,y_pred))"
      ],
      "execution_count": null,
      "outputs": [
        {
          "output_type": "stream",
          "name": "stdout",
          "text": [
            "              precision    recall  f1-score   support\n",
            "\n",
            "           1       0.25      0.05      0.08        21\n",
            "           2       0.00      0.00      0.00        15\n",
            "           3       0.27      0.02      0.04       182\n",
            "           4       0.74      0.77      0.76      1344\n",
            "           5       0.78      0.86      0.82      1458\n",
            "\n",
            "    accuracy                           0.76      3020\n",
            "   macro avg       0.41      0.34      0.34      3020\n",
            "weighted avg       0.73      0.76      0.74      3020\n",
            "\n"
          ]
        }
      ]
    },
    {
      "cell_type": "code",
      "source": [
        "cm = confusion_matrix(y_test, y_pred)\n",
        "disp = ConfusionMatrixDisplay(confusion_matrix=cm)\n",
        "disp.plot()\n",
        "plt.show()"
      ],
      "metadata": {
        "colab": {
          "base_uri": "https://localhost:8080/",
          "height": 279
        },
        "id": "9JPs6qvd7StK",
        "outputId": "da2a8e83-3136-43f7-bca0-e447e25b5e2a"
      },
      "execution_count": null,
      "outputs": [
        {
          "output_type": "display_data",
          "data": {
            "image/png": "[encoded data removed]",
            "text/plain": [
              "<Figure size 432x288 with 2 Axes>"
            ]
          },
          "metadata": {
            "needs_background": "light"
          }
        }
      ]
    },
    {
      "cell_type": "code",
      "metadata": {
        "colab": {
          "base_uri": "https://localhost:8080/"
        },
        "id": "hQpYB-9byZij",
        "outputId": "e7e8b5e3-f4d7-4a49-ac83-fb351ab303f8"
      },
      "source": [
        "from sklearn.naive_bayes import *\n",
        "\n",
        "classifier =  MultinomialNB(alpha=1.0, fit_prior=True, class_prior=None)\n",
        "classifier.fit(X_train, y_train)\n",
        "print(\"Mô hình đã huấn luyện xong\")"
      ],
      "execution_count": null,
      "outputs": [
        {
          "output_type": "stream",
          "name": "stdout",
          "text": [
            "Mô hình đã huấn luyện xong\n"
          ]
        }
      ]
    },
    {
      "cell_type": "code",
      "metadata": {
        "colab": {
          "base_uri": "https://localhost:8080/"
        },
        "id": "5qKu5AfWyZik",
        "outputId": "b32c1cae-ec34-4184-ba1c-61432d249b06"
      },
      "source": [
        "predicted = classifier.predict(X_test)\n",
        "y_pred = []\n",
        "for y in predicted:\n",
        "    y_pred.append([int(y)])\n",
        "    \n",
        "print(\"Kết quả các độ đo trong mô hình Naive Bayes\")\n",
        "print(\"Accuracy: \",accuracy_score(y_test, y_pred))\n",
        "print(\"F1 - score: \",f1_score(y_test, y_pred, average=\"weighted\"))\n",
        "print(\"Precision: \",precision_score(y_test, y_pred, average=\"weighted\"))\n",
        "print(\"Recall: \",recall_score(y_test, y_pred, average=\"weighted\"))"
      ],
      "execution_count": null,
      "outputs": [
        {
          "output_type": "stream",
          "name": "stdout",
          "text": [
            "Kết quả các độ đo trong mô hình Naive Bayes\n",
            "Accuracy:  0.6920529801324503\n",
            "F1 - score:  0.667693165675782\n",
            "Precision:  0.6487236946377146\n",
            "Recall:  0.6920529801324503\n"
          ]
        }
      ]
    },
    {
      "cell_type": "code",
      "metadata": {
        "colab": {
          "base_uri": "https://localhost:8080/"
        },
        "id": "cfDdBv5hyZik",
        "outputId": "36b82674-ff12-4391-924e-a95d2b693dbc"
      },
      "source": [
        "print(classification_report(y_test,y_pred))"
      ],
      "execution_count": null,
      "outputs": [
        {
          "output_type": "stream",
          "name": "stdout",
          "text": [
            "              precision    recall  f1-score   support\n",
            "\n",
            "           1       0.00      0.00      0.00        21\n",
            "           2       0.00      0.00      0.00        15\n",
            "           3       0.00      0.00      0.00       182\n",
            "           4       0.63      0.76      0.69      1344\n",
            "           5       0.76      0.73      0.75      1458\n",
            "\n",
            "    accuracy                           0.69      3020\n",
            "   macro avg       0.28      0.30      0.29      3020\n",
            "weighted avg       0.65      0.69      0.67      3020\n",
            "\n"
          ]
        }
      ]
    },
    {
      "cell_type": "code",
      "metadata": {
        "colab": {
          "base_uri": "https://localhost:8080/"
        },
        "id": "BtsYxvR00ken",
        "outputId": "6eb864bf-e904-4859-f468-cb49af8f4833"
      },
      "source": [
        "print(classification_report(y_test,y_pred))"
      ],
      "execution_count": null,
      "outputs": [
        {
          "output_type": "stream",
          "name": "stdout",
          "text": [
            "              precision    recall  f1-score   support\n",
            "\n",
            "           1       0.00      0.00      0.00        21\n",
            "           2       0.00      0.00      0.00        15\n",
            "           3       0.00      0.00      0.00       182\n",
            "           4       0.63      0.76      0.69      1344\n",
            "           5       0.76      0.73      0.75      1458\n",
            "\n",
            "    accuracy                           0.69      3020\n",
            "   macro avg       0.28      0.30      0.29      3020\n",
            "weighted avg       0.65      0.69      0.67      3020\n",
            "\n"
          ]
        }
      ]
    },
    {
      "cell_type": "code",
      "metadata": {
        "id": "iNS_zocc0rzO",
        "colab": {
          "base_uri": "https://localhost:8080/",
          "height": 279
        },
        "outputId": "fe9d3492-97c9-4a60-d98e-059a38a1d6b4"
      },
      "source": [
        "cm = confusion_matrix(y_test, y_pred)\n",
        "disp = ConfusionMatrixDisplay(confusion_matrix=cm)\n",
        "disp.plot()\n",
        "plt.show()\n"
      ],
      "execution_count": null,
      "outputs": [
        {
          "output_type": "display_data",
          "data": {
            "image/png": "[encoded data removed]",
            "text/plain": [
              "<Figure size 432x288 with 2 Axes>"
            ]
          },
          "metadata": {
            "needs_background": "light"
          }
        }
      ]
    }
  ]
}